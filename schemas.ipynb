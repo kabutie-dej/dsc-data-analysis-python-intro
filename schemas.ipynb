{
  "nbformat": 4,
  "nbformat_minor": 0,
  "metadata": {
    "colab": {
      "provenance": [],
      "include_colab_link": true
    },
    "kernelspec": {
      "name": "python3",
      "display_name": "Python 3"
    },
    "language_info": {
      "name": "python"
    }
  },
  "cells": [
    {
      "cell_type": "markdown",
      "metadata": {
        "id": "view-in-github",
        "colab_type": "text"
      },
      "source": [
        "<a href=\"https://colab.research.google.com/github/kabutie-dej/dsc-data-analysis-python-intro/blob/master/schemas.ipynb\" target=\"_parent\"><img src=\"https://colab.research.google.com/assets/colab-badge.svg\" alt=\"Open In Colab\"/></a>"
      ]
    },
    {
      "cell_type": "markdown",
      "source": [
        "# New Section"
      ],
      "metadata": {
        "id": "4crHTBj0uC0l"
      }
    },
    {
      "cell_type": "code",
      "source": [],
      "metadata": {
        "id": "MEVRWHXqqj5y"
      },
      "execution_count": null,
      "outputs": []
    },
    {
      "cell_type": "code",
      "source": [
        "import csv"
      ],
      "metadata": {
        "id": "AG2-ECZ-LWHs"
      },
      "execution_count": null,
      "outputs": []
    },
    {
      "cell_type": "code",
      "source": [
        "track_times = [\n",
        "    [13.10, 13.59, 13.44],\n",
        "    [13.93, 13.85, 13.47],\n",
        "    [14.12, 14.41, 13.89],\n",
        "    [14.42, 13.55, 13.43]\n",
        "]\n",
        "track_times"
      ],
      "metadata": {
        "colab": {
          "base_uri": "https://localhost:8080/"
        },
        "id": "4MAk_ZUP4nXZ",
        "outputId": "9f02f62b-bee7-4f3b-d111-e4f56b14164b"
      },
      "execution_count": null,
      "outputs": [
        {
          "output_type": "execute_result",
          "data": {
            "text/plain": [
              "[[13.1, 13.59, 13.44],\n",
              " [13.93, 13.85, 13.47],\n",
              " [14.12, 14.41, 13.89],\n",
              " [14.42, 13.55, 13.43]]"
            ]
          },
          "metadata": {},
          "execution_count": 1
        }
      ]
    },
    {
      "cell_type": "code",
      "execution_count": null,
      "metadata": {
        "colab": {
          "base_uri": "https://localhost:8080/"
        },
        "id": "SlbSkIaKt-jx",
        "outputId": "3de84611-5a9f-495b-cb6b-ce15e4ac0c82"
      },
      "outputs": [
        {
          "output_type": "stream",
          "name": "stdout",
          "text": [
            "13.1,13.59,13.44\n",
            "13.93,13.85,13.47\n",
            "14.12,14.41,13.89\n",
            "14.42,13.55,13.43\n"
          ]
        }
      ],
      "source": [
        "#create a  csv file from the data below\n",
        "# Initialize an empty string\n",
        "track_times_csv = \"\"\n",
        "\n",
        "# Loop over all lists in the overall list\n",
        "for index, athlete_times in enumerate(track_times):\n",
        "    # Join together the values in the nested list using\n",
        "    # a comma as a separator\n",
        "    athlete_times_string = \",\".join([str(time) for time in athlete_times])\n",
        "    # Append the values to the overall string\n",
        "    track_times_csv += athlete_times_string\n",
        "    # Append a newline, unless this is the last row\n",
        "    if index < (len(track_times) - 1):\n",
        "        track_times_csv += \"\\n\"\n",
        "\n",
        "print(track_times_csv)"
      ]
    },
    {
      "cell_type": "code",
      "source": [
        "with open(\"track_times.csv\", \"w\") as f:\n",
        "    f.write(track_times_csv)\n"
      ],
      "metadata": {
        "id": "hEoroiD-4vP9"
      },
      "execution_count": null,
      "outputs": []
    },
    {
      "cell_type": "code",
      "source": [
        "with open(\"track_times.csv\") as f:\n",
        "    track_times_csv_from_disk = f.read()\n",
        "print(track_times_csv_from_disk)\n"
      ],
      "metadata": {
        "colab": {
          "base_uri": "https://localhost:8080/"
        },
        "id": "Mq6vUjJZ5KGL",
        "outputId": "ff410970-7ce1-42ac-c1d3-b7ec08bf8d4c"
      },
      "execution_count": null,
      "outputs": [
        {
          "output_type": "stream",
          "name": "stdout",
          "text": [
            "13.1,13.59,13.44\n",
            "13.93,13.85,13.47\n",
            "14.12,14.41,13.89\n",
            "14.42,13.55,13.43\n"
          ]
        }
      ]
    },
    {
      "cell_type": "code",
      "source": [
        "track_times_from_disk = []\n",
        "for row in track_times_csv_from_disk.split(\"\\n\"):\n",
        "    times = [float(time) for time in row.split(\",\")]\n",
        "    track_times_from_disk.append(times)\n",
        "\n",
        "track_times_from_disk"
      ],
      "metadata": {
        "colab": {
          "base_uri": "https://localhost:8080/"
        },
        "id": "yme6QHFd8j17",
        "outputId": "e73a9fc2-cbea-4d11-e7f8-3086dbcc6005"
      },
      "execution_count": null,
      "outputs": [
        {
          "output_type": "execute_result",
          "data": {
            "text/plain": [
              "[[13.1, 13.59, 13.44],\n",
              " [13.93, 13.85, 13.47],\n",
              " [14.12, 14.41, 13.89],\n",
              " [14.42, 13.55, 13.43]]"
            ]
          },
          "metadata": {},
          "execution_count": 5
        }
      ]
    },
    {
      "cell_type": "code",
      "source": [
        "# new example of data towards csv\n"
      ],
      "metadata": {
        "id": "fcC78fyz8yff"
      },
      "execution_count": null,
      "outputs": []
    },
    {
      "cell_type": "code",
      "source": [
        "car_sales = [\n",
        "    [\"Toyota Camry\", 24000],\n",
        "    [\"Honda Accord\", 22000],\n",
        "    [\"Ford Mustang\", 35000],\n",
        "    [\"Tesla Model 3\", 42000],\n",
        "    [\"BMW 3 Series\", 41000]\n",
        "]\n"
      ],
      "metadata": {
        "id": "0loHazWu-X2P"
      },
      "execution_count": 1,
      "outputs": []
    },
    {
      "cell_type": "code",
      "source": [
        "#change the data to a csv file\n",
        "car_sales_csv = \"\"\n",
        "# loop through the list\n",
        "for index, sale in enumerate(car_sales):\n",
        "  car_string =  \",\".join([str(item) for item in sale])\n",
        "  car_sales_csv += car_string\n",
        "\n",
        "  if index < (len(car_sales) - 1):\n",
        "        car_sales_csv += \"\\n\"\n",
        "\n",
        "print(car_sales_csv)"
      ],
      "metadata": {
        "colab": {
          "base_uri": "https://localhost:8080/"
        },
        "id": "nluX42iB-aCn",
        "outputId": "23bf1bc2-f8b9-498e-9414-3062edb555fc"
      },
      "execution_count": null,
      "outputs": [
        {
          "output_type": "stream",
          "name": "stdout",
          "text": [
            "Toyota Camry,24000\n",
            "Honda Accord,22000\n",
            "Ford Mustang,35000\n",
            "Tesla Model 3,42000\n",
            "BMW 3 Series,41000\n"
          ]
        }
      ]
    },
    {
      "cell_type": "code",
      "source": [
        "with open('car_sales_csv', 'w')as f:\n",
        "  f.write(car_sales_csv)\n",
        "  print(car_sales_csv)"
      ],
      "metadata": {
        "colab": {
          "base_uri": "https://localhost:8080/",
          "height": 176
        },
        "id": "HsP6YwcRFuFe",
        "outputId": "2d848d23-f6f2-44d8-d46f-147724497256"
      },
      "execution_count": 2,
      "outputs": [
        {
          "output_type": "error",
          "ename": "NameError",
          "evalue": "name 'car_sales_csv' is not defined",
          "traceback": [
            "\u001b[0;31m---------------------------------------------------------------------------\u001b[0m",
            "\u001b[0;31mNameError\u001b[0m                                 Traceback (most recent call last)",
            "\u001b[0;32m<ipython-input-2-5aac05221dbb>\u001b[0m in \u001b[0;36m<cell line: 0>\u001b[0;34m()\u001b[0m\n\u001b[1;32m      1\u001b[0m \u001b[0;32mwith\u001b[0m \u001b[0mopen\u001b[0m\u001b[0;34m(\u001b[0m\u001b[0;34m'car_sales_csv'\u001b[0m\u001b[0;34m,\u001b[0m \u001b[0;34m'w'\u001b[0m\u001b[0;34m)\u001b[0m\u001b[0;32mas\u001b[0m \u001b[0mf\u001b[0m\u001b[0;34m:\u001b[0m\u001b[0;34m\u001b[0m\u001b[0;34m\u001b[0m\u001b[0m\n\u001b[0;32m----> 2\u001b[0;31m   \u001b[0mf\u001b[0m\u001b[0;34m.\u001b[0m\u001b[0mwrite\u001b[0m\u001b[0;34m(\u001b[0m\u001b[0mcar_sales_csv\u001b[0m\u001b[0;34m)\u001b[0m\u001b[0;34m\u001b[0m\u001b[0;34m\u001b[0m\u001b[0m\n\u001b[0m\u001b[1;32m      3\u001b[0m   \u001b[0mprint\u001b[0m\u001b[0;34m(\u001b[0m\u001b[0mcar_sales_csv\u001b[0m\u001b[0;34m)\u001b[0m\u001b[0;34m\u001b[0m\u001b[0;34m\u001b[0m\u001b[0m\n",
            "\u001b[0;31mNameError\u001b[0m: name 'car_sales_csv' is not defined"
          ]
        }
      ]
    },
    {
      "cell_type": "code",
      "source": [
        "with open('car_sales_csv') as f:\n",
        "  car_sales_csv_from_disk= f.read()\n",
        "  print(car_sales_csv_from_disk)\n"
      ],
      "metadata": {
        "colab": {
          "base_uri": "https://localhost:8080/"
        },
        "id": "0SByo_47GwvM",
        "outputId": "2d6b3ca2-fa71-4c50-aef5-4a52bcc4fdd9"
      },
      "execution_count": null,
      "outputs": [
        {
          "output_type": "stream",
          "name": "stdout",
          "text": [
            "Toyota Camry,24000\n",
            "Honda Accord,22000\n",
            "Ford Mustang,35000\n",
            "Tesla Model 3,42000\n",
            "BMW 3 Series,41000\n"
          ]
        }
      ]
    },
    {
      "cell_type": "code",
      "source": [
        "# read the data into  a pandas formart\n",
        "import pandas as pd\n",
        "df = pd.read_csv('car_sales_csv')\n",
        "print(df)"
      ],
      "metadata": {
        "colab": {
          "base_uri": "https://localhost:8080/"
        },
        "id": "egemj0EZE5W-",
        "outputId": "40f51e94-657e-4214-93f4-60fc77366808"
      },
      "execution_count": null,
      "outputs": [
        {
          "output_type": "stream",
          "name": "stdout",
          "text": [
            "    Toyota Camry  24000\n",
            "0   Honda Accord  22000\n",
            "1   Ford Mustang  35000\n",
            "2  Tesla Model 3  42000\n",
            "3   BMW 3 Series  41000\n"
          ]
        }
      ]
    },
    {
      "cell_type": "code",
      "source": [
        "# json file creation"
      ],
      "metadata": {
        "id": "yUm8xtaRJIBD"
      },
      "execution_count": null,
      "outputs": []
    },
    {
      "cell_type": "code",
      "source": [
        "import json"
      ],
      "metadata": {
        "id": "Fi7hwcFlLaxC"
      },
      "execution_count": null,
      "outputs": []
    },
    {
      "cell_type": "code",
      "source": [
        "car_sales = [\n",
        "    [\"Toyota Camry\", 24000],\n",
        "    [\"Honda Accord\", 22000],\n",
        "    [\"Ford Mustang\", 35000],\n",
        "    [\"Tesla Model 3\", 42000],\n",
        "    [\"BMW 3 Series\", 41000]\n",
        "]"
      ],
      "metadata": {
        "id": "7qStV9BhJNOP"
      },
      "execution_count": null,
      "outputs": []
    },
    {
      "cell_type": "code",
      "source": [
        "with open(\"car_sales.json\", \"w\") as json_file:\n",
        "    json.dump(car_sales, json_file, indent=4)\n"
      ],
      "metadata": {
        "id": "8Z1JelsVLG7v"
      },
      "execution_count": null,
      "outputs": []
    },
    {
      "cell_type": "code",
      "source": [
        "# load the json file\n",
        "with open ('car_sale.json', )"
      ],
      "metadata": {
        "id": "JCYzak4gPmeE"
      },
      "execution_count": null,
      "outputs": []
    },
    {
      "cell_type": "code",
      "source": [
        "df = pd.read_json('car_sales.json')\n",
        "print(df)"
      ],
      "metadata": {
        "colab": {
          "base_uri": "https://localhost:8080/"
        },
        "id": "LjtC6TziNAOJ",
        "outputId": "7b4b8c47-5a46-4b61-c958-d7bd3227b560"
      },
      "execution_count": null,
      "outputs": [
        {
          "output_type": "stream",
          "name": "stdout",
          "text": [
            "               0      1\n",
            "0   Toyota Camry  24000\n",
            "1   Honda Accord  22000\n",
            "2   Ford Mustang  35000\n",
            "3  Tesla Model 3  42000\n",
            "4   BMW 3 Series  41000\n"
          ]
        }
      ]
    },
    {
      "cell_type": "code",
      "source": [
        "# list comprehension concept and dict comprehensiion\n",
        "#[result wanted for x(item within the data_name) in data_name  add conditions if necessary]"
      ],
      "metadata": {
        "id": "tfaFCvrWJeLc"
      },
      "execution_count": null,
      "outputs": []
    },
    {
      "cell_type": "code",
      "source": [
        "# use the list comprrehension to extract odd numbers from the range data\n",
        "nums = set(range(1000))"
      ],
      "metadata": {
        "id": "928Y0L7jKFnA"
      },
      "execution_count": null,
      "outputs": []
    },
    {
      "cell_type": "code",
      "source": [
        "odd_nums = [x for x in nums if x % 2 != 0]\n",
        "print(odd_nums)"
      ],
      "metadata": {
        "colab": {
          "base_uri": "https://localhost:8080/"
        },
        "id": "3cVTAeXqKioX",
        "outputId": "e052e5bf-08a5-4641-8b28-ba09fce6ff1f"
      },
      "execution_count": null,
      "outputs": [
        {
          "output_type": "stream",
          "name": "stdout",
          "text": [
            "[1, 3, 5, 7, 9, 11, 13, 15, 17, 19, 21, 23, 25, 27, 29, 31, 33, 35, 37, 39, 41, 43, 45, 47, 49, 51, 53, 55, 57, 59, 61, 63, 65, 67, 69, 71, 73, 75, 77, 79, 81, 83, 85, 87, 89, 91, 93, 95, 97, 99, 101, 103, 105, 107, 109, 111, 113, 115, 117, 119, 121, 123, 125, 127, 129, 131, 133, 135, 137, 139, 141, 143, 145, 147, 149, 151, 153, 155, 157, 159, 161, 163, 165, 167, 169, 171, 173, 175, 177, 179, 181, 183, 185, 187, 189, 191, 193, 195, 197, 199, 201, 203, 205, 207, 209, 211, 213, 215, 217, 219, 221, 223, 225, 227, 229, 231, 233, 235, 237, 239, 241, 243, 245, 247, 249, 251, 253, 255, 257, 259, 261, 263, 265, 267, 269, 271, 273, 275, 277, 279, 281, 283, 285, 287, 289, 291, 293, 295, 297, 299, 301, 303, 305, 307, 309, 311, 313, 315, 317, 319, 321, 323, 325, 327, 329, 331, 333, 335, 337, 339, 341, 343, 345, 347, 349, 351, 353, 355, 357, 359, 361, 363, 365, 367, 369, 371, 373, 375, 377, 379, 381, 383, 385, 387, 389, 391, 393, 395, 397, 399, 401, 403, 405, 407, 409, 411, 413, 415, 417, 419, 421, 423, 425, 427, 429, 431, 433, 435, 437, 439, 441, 443, 445, 447, 449, 451, 453, 455, 457, 459, 461, 463, 465, 467, 469, 471, 473, 475, 477, 479, 481, 483, 485, 487, 489, 491, 493, 495, 497, 499, 501, 503, 505, 507, 509, 511, 513, 515, 517, 519, 521, 523, 525, 527, 529, 531, 533, 535, 537, 539, 541, 543, 545, 547, 549, 551, 553, 555, 557, 559, 561, 563, 565, 567, 569, 571, 573, 575, 577, 579, 581, 583, 585, 587, 589, 591, 593, 595, 597, 599, 601, 603, 605, 607, 609, 611, 613, 615, 617, 619, 621, 623, 625, 627, 629, 631, 633, 635, 637, 639, 641, 643, 645, 647, 649, 651, 653, 655, 657, 659, 661, 663, 665, 667, 669, 671, 673, 675, 677, 679, 681, 683, 685, 687, 689, 691, 693, 695, 697, 699, 701, 703, 705, 707, 709, 711, 713, 715, 717, 719, 721, 723, 725, 727, 729, 731, 733, 735, 737, 739, 741, 743, 745, 747, 749, 751, 753, 755, 757, 759, 761, 763, 765, 767, 769, 771, 773, 775, 777, 779, 781, 783, 785, 787, 789, 791, 793, 795, 797, 799, 801, 803, 805, 807, 809, 811, 813, 815, 817, 819, 821, 823, 825, 827, 829, 831, 833, 835, 837, 839, 841, 843, 845, 847, 849, 851, 853, 855, 857, 859, 861, 863, 865, 867, 869, 871, 873, 875, 877, 879, 881, 883, 885, 887, 889, 891, 893, 895, 897, 899, 901, 903, 905, 907, 909, 911, 913, 915, 917, 919, 921, 923, 925, 927, 929, 931, 933, 935, 937, 939, 941, 943, 945, 947, 949, 951, 953, 955, 957, 959, 961, 963, 965, 967, 969, 971, 973, 975, 977, 979, 981, 983, 985, 987, 989, 991, 993, 995, 997, 999]\n"
          ]
        }
      ]
    },
    {
      "cell_type": "code",
      "source": [
        "# use a list comprehension to take the first character of each string from the following list of words.\n",
        "words = ['carbon','osmium', 'mercury', 'potassium', 'hydrogen', 'sulfur', 'iodine']"
      ],
      "metadata": {
        "id": "tPU5okzILdvd"
      },
      "execution_count": null,
      "outputs": []
    },
    {
      "cell_type": "code",
      "source": [
        "first_character = [word[0] for word in words ]\n",
        "first_character"
      ],
      "metadata": {
        "colab": {
          "base_uri": "https://localhost:8080/"
        },
        "id": "EPokhM7EMYho",
        "outputId": "ac35301b-2b58-493e-c93c-928d25a3ad90"
      },
      "execution_count": null,
      "outputs": [
        {
          "output_type": "execute_result",
          "data": {
            "text/plain": [
              "['c', 'o', 'm', 'p', 'h', 's', 'i']"
            ]
          },
          "metadata": {},
          "execution_count": 9
        }
      ]
    },
    {
      "cell_type": "markdown",
      "source": [
        "# Json schemas concept\n",
        "+ One common use case of JSON files will be when you are connecting to various websites through their established APIs to retrieve data from them.\n",
        "+ JSON Schema is like a blueprint or a set of rules that tells you what a JSON object should look like.\n",
        "+ It helps to validate if a JSON data matches a specific format.\n",
        "+ Think of it as a contract: it defines what fields should be there, their data types, whether they’re required, and other constraints.\n"
      ],
      "metadata": {
        "id": "o62BEjjf2yV_"
      }
    },
    {
      "cell_type": "markdown",
      "source": [
        "## Why use of json schemas.\n",
        "+ To make sure data is structured correctly before using it.\n",
        "+ To catch errors early if some data is missing or has the wrong type.\n",
        "+ To document what kind of data your app or API expects."
      ],
      "metadata": {
        "id": "EKuTfZzq2VZH"
      }
    },
    {
      "cell_type": "markdown",
      "source": [
        "+ API stands for Application Programming Interface.\n",
        "\n",
        "+ It’s basically a set of rules and tools that lets different software programs talk to each other."
      ],
      "metadata": {
        "id": "jhtkgO0HU3VP"
      }
    },
    {
      "cell_type": "markdown",
      "source": [
        "## examples from basic Json to Json schema"
      ],
      "metadata": {
        "id": "tANShukr3QcR"
      }
    },
    {
      "cell_type": "code",
      "source": [
        "data_dasic_json = {\n",
        "  \"name\": \"Alice\",\n",
        "  \"age\": 30,\n",
        "  \"email\": \"alice@example.com\"\n",
        "}\n"
      ],
      "metadata": {
        "id": "n138A0fN3vz-"
      },
      "execution_count": null,
      "outputs": []
    },
    {
      "cell_type": "code",
      "source": [
        "Json_schema_data_of_above={\n",
        "  \"type\": \"object\",\n",
        "  \"properties\": {\n",
        "    \"name\": { \"type\": \"string\" },\n",
        "    \"age\": { \"type\": \"integer\" },\n",
        "    \"email\": { \"type\": \"string\", \"format\": \"email\" }\n",
        "  },\n",
        "  \"required\": [\"name\", \"age\"]\n",
        "}\n"
      ],
      "metadata": {
        "id": "mPeE0Bb23_Yf"
      },
      "execution_count": 3,
      "outputs": []
    },
    {
      "cell_type": "code",
      "source": [
        "# open the json file\n",
        "with open('intents.json')as file:\n",
        "  data = json.load(file)\n",
        "  print(data)"
      ],
      "metadata": {
        "colab": {
          "base_uri": "https://localhost:8080/"
        },
        "id": "l--T5VoBFT9u",
        "outputId": "ad61a728-57a7-45f8-ce3f-d3d76d5054b6"
      },
      "execution_count": null,
      "outputs": [
        {
          "output_type": "stream",
          "name": "stdout",
          "text": [
            "{'intents': [{'tag': 'greeting', 'patterns': ['Hi', 'Hey', 'Is anyone there?', 'Hi there', 'Hello', 'Hey there', 'Howdy', 'Hola', 'Bonjour', 'Konnichiwa', 'Guten tag', 'Ola'], 'responses': ['Hello there. Tell me how are you feeling today?', 'Hi there. What brings you here today?', 'Hi there. How are you feeling today?', 'Great to see you. How do you feel currently?', \"Hello there. Glad to see you're back. What's going on in your world right now?\"]}, {'tag': 'morning', 'patterns': ['Good morning'], 'responses': [\"Good morning. I hope you had a good night's sleep. How are you feeling today? \"]}, {'tag': 'afternoon', 'patterns': ['Good afternoon'], 'responses': ['Good afternoon. How is your day going?']}, {'tag': 'evening', 'patterns': ['Good evening'], 'responses': ['Good evening. How has your day been?']}, {'tag': 'night', 'patterns': ['Good night'], 'responses': ['Good night. Get some proper sleep', 'Good night. Sweet dreams.']}, {'tag': 'goodbye', 'patterns': ['Bye', 'See you later', 'Goodbye', 'Au revoir', 'Sayonara', 'ok bye', 'Bye then', 'Fare thee well'], 'responses': ['See you later.', 'Have a nice day.', 'Bye! Come back again.', \"I'll see you soon.\"]}, {'tag': 'thanks', 'patterns': ['Thanks', 'Thank you', \"That's helpful\", 'Thanks for the help', 'Than you very much'], 'responses': ['Happy to help!', 'Any time!', 'My pleasure', \"You're most welcome!\"]}, {'tag': 'no-response', 'patterns': [''], 'responses': [\"Sorry, I didn't understand you.\", 'Please go on.', 'Not sure I understand that.', \"Please don't hesitate to talk to me.\"]}, {'tag': 'neutral-response', 'patterns': ['nothing much'], 'responses': ['Oh I see. Do you want to talk about something?']}, {'tag': 'about', 'patterns': ['Who are you?', 'What are you?', 'Who you are?', 'Tell me more about yourself.', 'What is your name?', 'What should I call you?', \"What's your name?\", 'Tell me about yourself'], 'responses': [\"I'm Pandora, your Personal Therapeutic AI Assistant. How are you feeling today\", \"I'm Pandora, a Therapeutic AI Assitant designed to assist you. Tell me about yourself.\", \"I'm Pandora. I am a conversational agent designed to mimic a therapist. So how are you feeling today?\", 'You can call me Pandora.', \"I'm Pandora!\", 'Call me Pandora']}, {'tag': 'skill', 'patterns': ['What can you do?'], 'responses': [\"I can provide general advice regarding anxiety and depression, answer questions related to mental health and make daily conversations. Do not consider me as a subsitute for an actual mental healthcare worker. Please seek help if you don't feel satisfied with me.\"]}, {'tag': 'creation', 'patterns': ['Who created you?', 'How were you made?', 'How were you created?'], 'responses': ['I was created by >.', 'I was trained on a text dataset using Deep Learning & Natural Language Processing techniques', 'The real question is: Who created you?']}, {'tag': 'name', 'patterns': ['My name is ', 'I am name.', 'I go by '], 'responses': ['Oh nice to meet you. Tell me how was your week?', 'Nice to meet you. So tell me. How do you feel today?', \"That's a great name. Tell me more about yourself.\"]}, {'tag': 'help', 'patterns': ['Could you help me?', 'give me a hand please', 'Can you help?', 'What can you do for me?', 'I need support', 'I need help', 'Support me please'], 'responses': ['Sure. Tell me how can i assist you', 'Tell me your problem so that i can assist you', 'Yes, sure. How can I help you?']}, {'tag': 'sad', 'patterns': ['I am feeling lonely', 'I am so lonely', 'I feel down', 'I feel sad', 'I am sad', 'I feel so lonely', 'I feel empty', \"I don't have anyone\"], 'responses': [\"I'm sorry to hear that. I'm here for you. Talking about it might help. So, tell me why do you think you're feeling this way?\", \"I'm here for you. Could you tell me why you're feeling this way?\", 'Why do you think you feel this way?', 'How long have you been feeling this way?']}, {'tag': 'stressed', 'patterns': ['I am so stressed out', 'I am so stressed', 'I feel stuck', 'I still feel stressed', 'I am so burned out'], 'responses': ['What do you think is causing this?', 'Take a deep breath and gather your thoughts. Go take a walk if possible. Stay hydrated', 'Give yourself a break. Go easy on yourself.', 'I am sorry to hear that. What is the reason behind this?']}, {'tag': 'worthless', 'patterns': ['I feel so worthless.', 'No one likes me.', \"I can't do anything.\", 'I am so useless', 'Nothing makes sense anymore'], 'responses': [\"It's only natural to feel this way. Tell me more. What else is on your mind?\", \"Let's discuss further why you're feeling this way.\", 'I first want to let you know that you are not alone in your feelings and there is always someone there to help . you can always change your feelings and change your way of thinking by being open to trying to change.', 'i first want to let you know that you are not alone in your feelings and there is always someone there to help . you can always change your feelings and change your way of thinking by being open to trying to change.']}, {'tag': 'depressed', 'patterns': [\"I can't take it anymore\", 'I am so depressed', \"I think i'm depressed.\", 'I have depression'], 'responses': [\"It helps to talk about what's happening. You're going to be okay\", 'Talk to me. Tell me more. It helps if you open up yourself to someone else.', 'Sometimes when we are depressed, it is hard to care about anything. It can be hard to do the simplest of things. Give yourself time to heal.']}, {'tag': 'happy', 'patterns': ['I feel great today.', 'I am happy.', 'I feel happy.', \"I'm good.\", 'cheerful', \"I'm fine\", 'I feel ok'], 'responses': [\"That's geat to hear. I'm glad you're feeling this way.\", \"Oh i see. That's great.\", 'Did something happen which made you feel this way?']}, {'tag': 'casual', 'patterns': ['Oh I see.', 'ok', 'okay', 'nice', 'Whatever', 'K', 'Fine', 'yeah', 'yes', 'no', 'not really'], 'responses': [\"Let's discuss further why you're feeling this way.\", 'How were you feeling last week?', \"I'm listening. Please go on.\", 'Tell me more', 'Can you elaborate on that?', 'Come Come elucidate your thoughts']}, {'tag': 'anxious', 'patterns': ['I feel so anxious.', \"I'm so anxious because of \"], 'responses': [\"Don't be hard on yourself. What's the reason behind this?\", 'Can you tell me more about this feeling?', 'I understand that it can be scary. Tell me more about it.', \"Don't let the little worries bring you down. What's the worse that can happen?\"]}, {'tag': 'not-talking', 'patterns': [\"I don't want to talk about it.\", 'No just stay away.', \"I can't bring myself to open up.\", 'Just shut up'], 'responses': [\"Talking about something really helps. If you're not ready to open up then that's ok. Just know that i'm here for you, whenever you need me.\", \"I want to help you. I really do. But in order for me to help you, you're gonna have to talk to me.\", \"I'm here to listen to you and help you vent. So please talk to me.\", 'You can talk to me without fear of judgement.']}, {'tag': 'sleep', 'patterns': ['I have insominia', 'I am suffering from insomnia', \"I can't sleep.\", \"I haven't slept for the last days.\", \"I can't seem to go to sleep.\", \"I haven't had proper sleep for the past few days.\"], 'responses': ['What do you think is the reason behind this?', 'That seem awful. What do you think is behind this?']}, {'tag': 'scared', 'patterns': [\"I'm scared\", 'That sounds awful. What do i do?', \"No i don't want to feel this way\", 'I am scared for myself'], 'responses': [\"It's only natural to feel this way. I'm here for you.\", \"It'll all be okay. This feeling is only momentary.\", \"I understand how you feel. Don't put yourself down because of it.\"]}, {'tag': 'death', 'patterns': ['My mom died', 'My brother died', 'My dad passed away', 'My sister passed away', 'Someone in my family died', 'My friend passed away'], 'responses': [\"I'm sorry to hear that. If you want to talk about it. I'm here.\", 'I am really sorry to hear that. I am here to help you with grief, anxiety and anything else you may feel at this time.', \"My condolences. I'm here if you need to talk.\"]}, {'tag': 'understand', 'patterns': [\"You don't understand me.\", \"You're just some robot. How would you know?\", \"You can't possibly know what i'm going through\", \"You're useless\", \"You can't help me\", 'Nobody understands me.'], 'responses': [\"It sound like i'm not being very helpful right now.\", \"I'm sorry to hear that. I'm doing my best to help\", \"I'm trying my best to help you. So please talk to me\"]}, {'tag': 'done', 'patterns': [\"That's all.\", \"I don't have anything more to say\", 'Nothing else', \"That's all i have to say\", 'no, that would be all'], 'responses': ['I heard you & noted it all. See you later.', \"Oh okay we're done for today then. See you later\", 'I hope you have a great day. See you soon', \"Okay we're done. Have a great day\", 'Okay I see. Enjoy the rest of your day then']}, {'tag': 'suicide', 'patterns': ['I want to kill myself', \"I've thought about killing myself.\", 'I want to die', 'I am going to kill myself', 'I am going to commit suicide'], 'responses': [\"I'm very sorry to hear that but you have so much to look forward to. Please seek help by contacting: 9152987821.\"]}, {'tag': 'hate-you', 'patterns': ['I hate you', \"I don't like you\", \"I don't trust you\"], 'responses': [\"I'm sorry if i offended you in anyway. I'm only here to help\", 'Forgive me if i did anything to offend you. I only want to help']}, {'tag': 'hate-me', 'patterns': ['You hate me', 'I know you hate me', \"You don't like me\"], 'responses': ['Why do you think so?', \"I'm sorry if i have exhibited any sort of behaviour to make you think that.\"]}, {'tag': 'default', 'patterns': ['exams', 'friends', 'relationship', 'boyfriend', 'girlfriend', 'family', 'money', 'financial problems'], 'responses': ['Oh I see. Tell me more', 'I see. What else?', 'Tell me more about it.', \"Oh okay. Why don't you tell me more about it?\", \"I'm listening. Tell me more.\"]}, {'tag': 'jokes', 'patterns': ['Tell me a joke', 'Tell me another joke'], 'responses': ['mental health is not a joke.']}, {'tag': 'repeat', 'patterns': ['You already told me that', 'You mentioned that already', 'Why are you repeating yourself?'], 'responses': [\"Oh sorry I didn't realise that. I'll try not to repeat myself again.\"]}, {'tag': 'wrong', 'patterns': ['What are you saying?', \"That doesn't make sense\", 'Wrong response', 'Wrong answer'], 'responses': [\"I'm very sorry. Let's try that again\"]}, {'tag': 'stupid', 'patterns': ['Are you stupid?', \"You're crazy\", 'You are dumb', 'Are you dumb?'], 'responses': [\"I wish you wouldn't say such hurtful things. I'm sorry if I wasn't useful\"]}, {'tag': 'location', 'patterns': ['Where are you?', 'Where do you live?', 'What is your location?'], 'responses': ['Duh I live in your computer', 'Everywhere', 'Somewhere in the universe']}, {'tag': 'something-else', 'patterns': ['I want to talk about something else', \"Let's talk about something else.\", 'Can we not talk about this?', \"I don't want to talk about this.\"], 'responses': ['Okay sure. What do you want to talk about?', 'Alright no problem. Is there something you want to talk about?', 'Is there something else that you want to talk about?']}, {'tag': 'friends', 'patterns': [\"I don't have any friends\"], 'responses': [\"I'm sorry to hear that. Just know that I'm here for you. Talking about it might help. Why do you think you don't have any friends?\"]}, {'tag': 'ask', 'patterns': ['Can I ask you something?'], 'responses': [\"Sure. I'll try my best to answer you\", \"Of course. Feel free to ask me anything. I'll do my best to answer you\"]}, {'tag': 'problem', 'patterns': [\"Probably because my exams are approaching. I feel stressed out because I don't think I've prepared well enough.\", 'probably because of my exams'], 'responses': ['I see. Have you taken any approaches to not feel this way?']}, {'tag': 'no-approach', 'patterns': ['I guess not. All I can think about are my exams.', 'not really', 'i guess not'], 'responses': [\"That's no problem. I can see why you'd be stressed out about that. I can suggest you some tips to alleviate this issue. Would you like to learn more about that?\"]}, {'tag': 'learn-more', 'patterns': ['ok sure. i would like to learn more about it.', 'yes, i would like to learn more about it.', 'i would like to learn more about it.'], 'responses': [\"So first I would suggest you to give yourself a break. Thinking more and more about the problem definitely does not help in solving it. You'll just end up overwhelming yourself.\"]}, {'tag': 'user-agree', 'patterns': [\"yeah you're right. i deserve a break.\", \"Yeah you're absolutely right about that\"], 'responses': ['Next, I would suggest you to practice meditation. Meditation can produce a deep state of relaxation and a tranquil mind.']}, {'tag': 'meditation', 'patterns': ['hmmm that sounds like it could be useful to me.', 'That sounds useful.'], 'responses': ['Focus all your attention on your breathing. Concentrate on feeling and listening as you inhale and exhale through your nostrils. Breathe deeply and slowly. When your attention wanders, gently return your focus to your breathing.']}, {'tag': 'user-meditation', 'patterns': ['i did what you said and i feel alot better. thank you very much.', 'I feel better now'], 'responses': [\"Your welcome. Remember: Always focus on what's within your control. When you find yourself worrying, take a minute to examine the things you have control over. You can't prevent a storm from coming but you can prepare for it. You can't control how someone else behaves, but you can control how you react. Recognize that sometimes, all you can control is your effort and your attitude. When you put your energy into the things you can control, you'll be much more effective.\"]}, {'tag': 'pandora-useful', 'patterns': [\"thank you very much again. i'll continue practicing meditation and focus on what i can control.\"], 'responses': [\"I'm glad you found this useful. Is there something else I can help you with?\"]}, {'tag': 'user-advice', 'patterns': ['I want some advice.', 'I need some advice.', 'I need advice on something'], 'responses': ['Sure. What can I do to help?', 'Okay what do you need advice on?']}, {'tag': 'learn-mental-health', 'patterns': ['I want to learn about mental health.', 'I want to learn more about mental health.', \"I'm interested in learning about mental health.\"], 'responses': [\"Oh that's really great. I'd be willing to answer anything that I know about it.\"]}, {'tag': 'mental-health-fact', 'patterns': ['Tell me a fact about mental health', 'Tell me another fact about mental health'], 'responses': ['According to a UNICEF report, One in seven Indians between 15-24 years of age feels depressed', '1 in 5 young people (age 13-18) has or will develop a mental illness in their lifetime.', 'Depression is the leading cause of disability worldwide.']}, {'tag': 'fact-1', 'patterns': ['What is mental health?', 'Define Mental Health'], 'responses': ['Mental health is a state of well-being in which the individual realizes his or her own abilities, can cope with the normal stresses of life, can work productively and fruitfully, and is able to make a contribution to his or her community', 'Mental health includes our emotional, psychological, and social well-being. It affects how we think, feel, and act. It also helps determine how we handle stress, relate to others, and make choices.']}, {'tag': 'fact-2', 'patterns': ['Why is mental health important?', 'What is the importance of mental health?'], 'responses': ['Maintaining mental health is crucial to stabilizing constructive behaviors, emotions, and thoughts. Focusing on mental health care can increase productivity, enhance our self-image, and improve relationships.']}, {'tag': 'fact-3', 'patterns': ['What is Depression?', 'Define Depression'], 'responses': ['A mental health disorder characterised by persistently depressed mood or loss of interest in activities, causing significant impairment in daily life.']}, {'tag': 'fact-5', 'patterns': ['How do i know if i have Depression?', 'Am i depressed?', 'Am i suffering from depression?', 'Am i mentally ill?'], 'responses': ['For a diagnosis of depression, a person needs to have experienced low mood or loss of interest or pleasure in life for at least 2 weeks. Also, they will have experienced the following symptoms: feelings of sadness, hopelessness, or irritability nearly every day.']}, {'tag': 'fact-6', 'patterns': ['What is a therapist?', 'What does a therapist do?'], 'responses': ['A therapist is a broad designation that refers to professionals who are trained to provide treatment and rehabilitation. The term is often applied to psychologists, but it can include others who provide a variety of services, including social workers, counselors, life coaches, and many others. ']}, {'tag': 'fact-7', 'patterns': ['What is therapy?', 'Do i need therapy?', 'Who is therapy for?'], 'responses': ['Therapy is a form of treatment that aims to help resolve mental or emotional issues.', 'Therapy is a form of treatment that aims to help resolve mental or emotional issues. It is helpful for those with mental health conditions or even everyday life challenges.']}, {'tag': 'fact-8', 'patterns': ['What does it mean to have a mental illness?'], 'responses': [\"Mental illnesses are health conditions that disrupt a person's thoughts, emotions, relationships, and daily functioning. They are associated with distress and diminished capacity to engage in the ordinary activities of daily life. Mental illnesses fall along a continuum of severity: some are fairly mild and only interfere with some aspects of life, such as certain phobias. On the other end of the spectrum lie serious mental illnesses, which result in major functional impairment and interference with daily life. These include such disorders as major depression, schizophrenia, and bipolar disorder, and may require that the person receives care in a hospital. It is important to know that mental illnesses are medical conditions that have nothing to do with a person's character, intelligence, or willpower. Just as diabetes is a disorder of the pancreas, mental illness is a medical condition due to the brain's biology. Similarly to how one would treat diabetes with medication and insulin, mental illness is treatable with a combination of medication and social support. These treatments are highly effective, with 70-90 percent of individuals receiving treatment experiencing a reduction in symptoms and an improved quality of life. With the proper treatment, it is very possible for a person with mental illness to be independent and successful.\"]}, {'tag': 'fact-9', 'patterns': ['Who does mental illness affect?'], 'responses': ['It is estimated that mental illness affects 1 in 5 adults in America, and that 1 in 24 adults have a serious mental illness. Mental illness does not discriminate; it can affect anyone, regardless of gender, age, income, social status, ethnicity, religion, sexual orientation, or background. Although mental illness can affect anyone, certain conditions may be more common in different populations. For instance, eating disorders tend to occur more often in females, while disorders such as attention deficit/hyperactivity disorder is more prevalent in children. Additionally, all ages are susceptible, but the young and the old are especially vulnerable. Mental illnesses usually strike individuals in the prime of their lives, with 75 percent of mental health conditions developing by the age of 24. This makes identification and treatment of mental disorders particularly difficult, because the normal personality and behavioral changes of adolescence may mask symptoms of a mental health condition. Parents and caretakers should be aware of this fact, and take notice of changes in their childÃ¢â‚¬â„¢s mood, personality, personal habits, and social withdrawal. When these occur in children under 18, they are referred to as serious emotional disturbances (SEDs).']}, {'tag': 'fact-10', 'patterns': ['What causes mental illness?'], 'responses': [\"It is estimated that mental illness affects 1 in 5 adults in America, and that 1 in 24 adults have a serious mental illness. Mental illness does not discriminate; it can affect anyone, regardless of gender, age, income, social status, ethnicity, religion, sexual orientation, or background. Although mental illness can affect anyone, certain conditions may be more common in different populations. For instance, eating disorders tend to occur more often in females, while disorders such as attention deficit/hyperactivity disorder is more prevalent in children. Additionally, all ages are susceptible, but the young and the old are especially vulnerable. Mental illnesses usually strike individuals in the prime of their lives, with 75 percent of mental health conditions developing by the age of 24. This makes identification and treatment of mental disorders particularly difficult, because the normal personality and behavioral changes of adolescence may mask symptoms of a mental health condition. Parents and caretakers should be aware of this fact, and take notice of changes in their child's mood, personality, personal habits, and social withdrawal. When these occur in children under 18, they are referred to as serious emotional disturbances (SEDs).\"]}, {'tag': 'fact-11', 'patterns': ['What are some of the warning signs of mental illness?'], 'responses': ['Symptoms of mental health disorders vary depending on the type and severity of the condition. The following is a list of general symptoms that may suggest a mental health disorder, particularly when multiple symptoms are expressed at once. \\n In adults:\\n Confused thinking\\n Long-lasting sadness or irritability\\n Extreme highs and lows in mood\\n Excessive fear, worrying, or anxiety\\n Social withdrawal\\n Dramatic changes in eating or sleeping habits\\n Strong feelings of anger\\n Delusions or hallucinations (seeing or hearing things that are not really there)\\n Increasing inability to cope with daily problems and activities\\n Thoughts of suicide\\n Denial of obvious problems\\n Many unexplained physical problems\\n Abuse of drugs and/or alcohol\\n \\nIn older children and pre-teens:\\n Abuse of drugs and/or alcohol\\n Inability to cope with daily problems and activities\\n Changes in sleeping and/or eating habits\\n Excessive complaints of physical problems\\n Defying authority, skipping school, stealing, or damaging property\\n Intense fear of gaining weight\\n Long-lasting negative mood, often along with poor appetite and thoughts of death\\n Frequent outbursts of anger\\n \\nIn younger children:\\n Changes in school performance\\n Poor grades despite strong efforts\\n Excessive worrying or anxiety\\n Hyperactivity\\n Persistent nightmares\\n Persistent disobedience and/or aggressive behavior\\n Frequent temper tantrums']}, {'tag': 'fact-12', 'patterns': ['Can people with mental illness recover?'], 'responses': ['When healing from mental illness, early identification and treatment are of vital importance. Based on the nature of the illness, there are a range of effective treatments available. For any type of treatment, it is essential that the person affected is proactive and fully engaged in their own recovery process. Many people with mental illnesses who are diagnosed and treated respond well, although some might experience a return of symptoms. Even in such cases, with careful monitoring and management of the disorder, it is still quite possible to live a fulfilled and productive life.']}, {'tag': 'fact-13', 'patterns': ['What should I do if I know someone who appears to have the symptoms of a mental disorder?'], 'responses': [\"Although Pandora cannot substitute for professional advice, we encourage those with symptoms to talk to their friends and family members and seek the counsel of a mental health professional. The sooner the mental health condition is identified and treated, the sooner they can get on the path to recovery. If you know someone who is having problems, don't assume that the issue will resolve itself. Let them know that you care about them, and that there are treatment options available that will help them heal. Speak with a mental health professional or counselor if you think your friend or family member is experiencing the symptoms of a mental health condition. If the affected loved one knows that you support them, they will be more likely to seek out help.\"]}, {'tag': 'fact-14', 'patterns': ['How can I find a mental health professional for myself or my child?'], 'responses': ['Feeling comfortable with the professional you or your child is working with is critical to the success of the treatment. Finding the professional who best fits your needs may require research. Start by searching for providers in your area.']}, {'tag': 'fact-15', 'patterns': ['What treatment options are available?'], 'responses': ['Just as there are different types of medications for physical illness, different treatment options are available for individuals with mental illness. Treatment works differently for different people. It is important to find what works best for you or your child.']}, {'tag': 'fact-16', 'patterns': ['If I become involved in treatment, what do I need to know?'], 'responses': [\"Since beginning treatment is a big step for individuals and families, it can be very overwhelming. It is important to be as involved and engaged in the treatment process as possible. Some questions you will need to have answered include:\\n What is known about the cause of this particular illness?\\n Are there other diagnoses where these symptoms are common?\\n Do you normally include a physical or neurological examination?\\n Are there any additional tests or exams that you would recommend at this point?\\n Would you advise an independent opinion from another psychiatrist at this point?\\n What program of treatment is the most helpful with this diagnosis?\\n Will this program involve services by other specialists? If so, who will be responsible for coordinating these services?\\n What do you see as the family's role in this program of treatment?\\n How much access will the family have to the individuals who are providing the treatment?\\n What medications are generally used with this diagnosis?\\n How much experience do you have in treating individuals with this illness?\\n What can I do to help you in the treatment?\"]}, {'tag': 'fact-17', 'patterns': ['What is the difference between mental health professionals?'], 'responses': ['There are many types of mental health professionals. The variety of providers and their services may be confusing. Each have various levels of education, training, and may have different areas of expertise. Finding the professional who best fits your needs may require some research.']}, {'tag': 'fact-18', 'patterns': ['How can I find a mental health professional right for my child or myself?'], 'responses': ['Feeling comfortable with the professional you or your child is working with is critical to the success of your treatment. Finding the professional who best fits your needs may require some research.']}, {'tag': 'fact-19', 'patterns': ['Where else can I get help?'], 'responses': ['Where you go for help will depend on the nature of the problem and/or symptoms and what best fits you. Often, the best place to start is by talking with someone you trust about your concerns, such as a family member, friend, clergy, healthcare provider, or other professionals. Having this social support is essential in healing from mental illness, and you will be able to ask them for referrals or recommendations for trusted mental health practitioners. Search for mental health resources in your area. Secondly, there are people and places throughout the country that provide services to talk, to listen, and to help you on your journey to recovery. Thirdly, many people find peer support a helpful tool that can aid in their recovery. There are a variety of organizations that offer support groups for consumers, their family members, and friends. Some support groups are peer led while others may be led by a mental health professional.']}, {'tag': 'fact-20', 'patterns': ['What should I know before starting a new medication?'], 'responses': ['The best source of information regarding medications is the physician prescribing them. He or she should be able to answer questions such as:    \\n1. What is the medication supposed to do? \\n2. When should it begin to take effect, and how will I know when it is effective? \\n3. How is the medication taken and for how long? What food, drinks, other medicines, and activities should be avoided while taking this medication? \\n4. What are the side effects and what should be done if they occur? \\n5. What do I do if a dose is missed? \\n6. Is there any written information available about this medication? \\n7. Are there other medications that might be appropriate? \\n8. If so, why do you prefer the one you have chosen? \\n9. How do you monitor medications and what symptoms indicate that they should be raised, lowered, or changed? \\n10. All medications should be taken as directed. Most medications for mental illnesses do not work when taken irregularly, and extra doses can cause severe, sometimes dangerous side effects. Many psychiatric medications begin to have a beneficial effect only after they have been taken for several weeks.']}, {'tag': 'fact-21', 'patterns': ['Where can I go to find therapy?'], 'responses': ['Different kinds of therapy are more effective based on the nature of the mental health condition and/or symptoms and the person who has them (for example, children will benefit from a therapist who specializes in childrenâ€™s mental health). However, there are several different types of treatment and therapy that can help.']}, {'tag': 'fact-22', 'patterns': ['Where can I learn about types of mental health treatment?'], 'responses': ['Mental health conditions are often treated with medication, therapy or a combination of the two. However, there are many different types of treatment available, including Complementary & Alternative Treatments, self-help plans, and peer support. Treatments are very personal and should be discussed by the person with the mental health conditions and his or her team.']}, {'tag': 'fact-23', 'patterns': ['What are the different types of mental health professionals?'], 'responses': ['There are many types of mental health professionals. Finding the right one for you may require some research.']}, {'tag': 'fact-24', 'patterns': ['Where can I go to find a support group?'], 'responses': ['Many people find peer support a helpful tool that can aid in their recovery. There are a variety of organizations that offer support groups for consumers, their family members and friends. Some support groups are peer-led, while others may be led by a mental health professional.']}, {'tag': 'fact-25', 'patterns': ['Can you prevent mental health problems?'], 'responses': ['We can all suffer from mental health challenges, but developing our wellbeing, resilience, and seeking help early can help prevent challenges becoming serious.']}, {'tag': 'fact-26', 'patterns': ['Are there cures for mental health problems?', 'is there any cure for mental health problems?'], 'responses': ['It is often more realistic and helpful to find out what helps with the issues you face. Talking, counselling, medication, friendships, exercise, good sleep and nutrition, and meaningful occupation can all help.']}, {'tag': 'fact-27', 'patterns': ['What causes mental health problems?'], 'responses': ['Challenges or problems with your mental health can arise from psychological, biological, and social, issues, as well as life events.']}, {'tag': 'fact-28', 'patterns': [\"What do I do if I'm worried about my mental health?\"], 'responses': ['The most important thing is to talk to someone you trust. This might be a friend, colleague, family member, or GP. In addition to talking to someone, it may be useful to find out more information about what you are experiencing. These things may help to get some perspective on what you are experiencing, and be the start of getting help.']}, {'tag': 'fact-29', 'patterns': [\"How do I know if I'm unwell?\"], 'responses': ['If your beliefs , thoughts , feelings or behaviours have a significant impact on your ability to function in what might be considered a normal or ordinary way, it would be important to seek help.']}, {'tag': 'fact-30', 'patterns': ['How can I maintain social connections? What if I feel lonely?'], 'responses': [\"A lot of people are alone right now, but we don't have to be lonely. We're all in this together. Think about the different ways to connect that are most meaningful for you. For example, you might prefer a video chat over a phone call, or you might prefer to text throughout the day rather than one set time for a video call. Then, work with your social networks to make a plan. You might video chat with your close friends in the evening and phone a family member once a week. Remember to be mindful of people who may not be online. Check in by phone and ask how you can help. The quality of your social connections matter. Mindlessly scrolling through social media and liking a few posts usually doesn't build strong social connections. Make sure you focus on strategies that actually make you feel included and connected. If your current strategies don't help you feel connected, problem-solve to see if you can find a solution. Everyone feels lonely at times. Maybe you recently moved to a new city, are changing your circle of friends, lost someone important in your life, or lost your job and also lost important social connections with coworkers. Other people may have physical connections to others but may feel like their emotional or social needs aren't met. Measures like social distancing or self-isolation can make loneliness feel worse no matter why you feel lonely now. Reach out to the connections you do have. Suggest ways to keep in touch and see if you can set a regular time to connect. People may hesitate to reach out for a lot of different reasons, so don't be afraid to be the one who asks. Look for local community support groups and mutual aid groups on social media. This pandemic is bringing everyone together, so look for opportunities to make new connections. These groups are a great way to share your skills and abilities or seek help and support. Look for specialized support groups. Support groups are moving online, and there are a lot of different support lines to call if you need to talk to someone.\"]}, {'tag': 'fact-31', 'patterns': [\"What's the difference between anxiety and stress?\"], 'responses': [\"Stress and anxiety are often used interchangeably, and there is overlap between stress and anxiety. Stress is related to the same fight, flight, or freeze response as anxiety, and the physical sensations of anxiety and stress may be very similar. The cause of stress and anxiety are usually different, however. Stress focuses on mainly external pressures on us that we're finding hard to cope with. When we are stressed, we usually know what we're stressed about, and the symptoms of stress typically disappear after the stressful situation is over. Anxiety, on the other hand, isn't always as easy to figure out. Anxiety focuses on worries or fears about things that could threaten us, as well as anxiety about the anxiety itself. Stress and anxiety are both part of being human, but both can be problems if they last for a long time or have an impact on our well-being or daily life.\"]}, {'tag': 'fact-32', 'patterns': [\"What's the difference between sadness and depression?\", 'difference between sadness and depression'], 'responses': [\"Sadness is a normal reaction to a loss, disappointment, problems, or other difficult situations. Feeling sad from time to time is just another part of being human. In these cases, feelings of sadness go away quickly and you can go about your daily life. Other ways to talk about sadness might be feeling low, feeling down, or feeling blue.A person may say they are feeling depressed, but if it goes away on its own and doesn't impact life in a big way, it probably isn't the illness of depression. Depression is a mental illness that affects your mood, the way you understand yourself, and the way you understand and relate to things around you. It can also go by different names, such as clinical depression, major depressive disorder, or major depression. Depression can come up for no reason, and it lasts for a long time. It's much more than sadness or low mood. People who experience depression may feel worthless or hopeless. They may feel unreasonable guilty. Some people may experience depression as anger or irritability. It may be hard to concentrate or make decisions. Most people lose interest in things that they used to enjoy and may isolate themselves from others. There are also physical signs of depression, such as problems with sleep, appetite and energy and unexplainable aches or pains. Some may experience difficult thoughts about death or ending their life (suicide). Depression lasts longer than two weeks, doesn't usually go away on its own, and impacts your life. It's a real illness, and it is very treatable. It's important to seek help if you're concerned about depression.\"]}]}\n"
          ]
        }
      ]
    },
    {
      "cell_type": "code",
      "source": [
        "type(data)"
      ],
      "metadata": {
        "colab": {
          "base_uri": "https://localhost:8080/"
        },
        "id": "_uhV0yx0Fowc",
        "outputId": "e64d7721-c079-4fd3-9038-b0bebc58e6e6"
      },
      "execution_count": null,
      "outputs": [
        {
          "output_type": "execute_result",
          "data": {
            "text/plain": [
              "dict"
            ]
          },
          "metadata": {},
          "execution_count": 19
        }
      ]
    },
    {
      "cell_type": "code",
      "source": [
        "data.keys()"
      ],
      "metadata": {
        "colab": {
          "base_uri": "https://localhost:8080/"
        },
        "id": "TLFv6UHPF9uZ",
        "outputId": "fb851b4d-f98e-49fd-ee53-ce652dc4e4cf"
      },
      "execution_count": null,
      "outputs": [
        {
          "output_type": "execute_result",
          "data": {
            "text/plain": [
              "dict_keys(['intents'])"
            ]
          },
          "metadata": {},
          "execution_count": 20
        }
      ]
    },
    {
      "cell_type": "code",
      "source": [
        "data['intents']"
      ],
      "metadata": {
        "colab": {
          "base_uri": "https://localhost:8080/"
        },
        "id": "3pa6k55-GDjA",
        "outputId": "7170c577-e09f-4a77-fbfa-1f6582087edc"
      },
      "execution_count": null,
      "outputs": [
        {
          "output_type": "execute_result",
          "data": {
            "text/plain": [
              "[{'tag': 'greeting',\n",
              "  'patterns': ['Hi',\n",
              "   'Hey',\n",
              "   'Is anyone there?',\n",
              "   'Hi there',\n",
              "   'Hello',\n",
              "   'Hey there',\n",
              "   'Howdy',\n",
              "   'Hola',\n",
              "   'Bonjour',\n",
              "   'Konnichiwa',\n",
              "   'Guten tag',\n",
              "   'Ola'],\n",
              "  'responses': ['Hello there. Tell me how are you feeling today?',\n",
              "   'Hi there. What brings you here today?',\n",
              "   'Hi there. How are you feeling today?',\n",
              "   'Great to see you. How do you feel currently?',\n",
              "   \"Hello there. Glad to see you're back. What's going on in your world right now?\"]},\n",
              " {'tag': 'morning',\n",
              "  'patterns': ['Good morning'],\n",
              "  'responses': [\"Good morning. I hope you had a good night's sleep. How are you feeling today? \"]},\n",
              " {'tag': 'afternoon',\n",
              "  'patterns': ['Good afternoon'],\n",
              "  'responses': ['Good afternoon. How is your day going?']},\n",
              " {'tag': 'evening',\n",
              "  'patterns': ['Good evening'],\n",
              "  'responses': ['Good evening. How has your day been?']},\n",
              " {'tag': 'night',\n",
              "  'patterns': ['Good night'],\n",
              "  'responses': ['Good night. Get some proper sleep',\n",
              "   'Good night. Sweet dreams.']},\n",
              " {'tag': 'goodbye',\n",
              "  'patterns': ['Bye',\n",
              "   'See you later',\n",
              "   'Goodbye',\n",
              "   'Au revoir',\n",
              "   'Sayonara',\n",
              "   'ok bye',\n",
              "   'Bye then',\n",
              "   'Fare thee well'],\n",
              "  'responses': ['See you later.',\n",
              "   'Have a nice day.',\n",
              "   'Bye! Come back again.',\n",
              "   \"I'll see you soon.\"]},\n",
              " {'tag': 'thanks',\n",
              "  'patterns': ['Thanks',\n",
              "   'Thank you',\n",
              "   \"That's helpful\",\n",
              "   'Thanks for the help',\n",
              "   'Than you very much'],\n",
              "  'responses': ['Happy to help!',\n",
              "   'Any time!',\n",
              "   'My pleasure',\n",
              "   \"You're most welcome!\"]},\n",
              " {'tag': 'no-response',\n",
              "  'patterns': [''],\n",
              "  'responses': [\"Sorry, I didn't understand you.\",\n",
              "   'Please go on.',\n",
              "   'Not sure I understand that.',\n",
              "   \"Please don't hesitate to talk to me.\"]},\n",
              " {'tag': 'neutral-response',\n",
              "  'patterns': ['nothing much'],\n",
              "  'responses': ['Oh I see. Do you want to talk about something?']},\n",
              " {'tag': 'about',\n",
              "  'patterns': ['Who are you?',\n",
              "   'What are you?',\n",
              "   'Who you are?',\n",
              "   'Tell me more about yourself.',\n",
              "   'What is your name?',\n",
              "   'What should I call you?',\n",
              "   \"What's your name?\",\n",
              "   'Tell me about yourself'],\n",
              "  'responses': [\"I'm Pandora, your Personal Therapeutic AI Assistant. How are you feeling today\",\n",
              "   \"I'm Pandora, a Therapeutic AI Assitant designed to assist you. Tell me about yourself.\",\n",
              "   \"I'm Pandora. I am a conversational agent designed to mimic a therapist. So how are you feeling today?\",\n",
              "   'You can call me Pandora.',\n",
              "   \"I'm Pandora!\",\n",
              "   'Call me Pandora']},\n",
              " {'tag': 'skill',\n",
              "  'patterns': ['What can you do?'],\n",
              "  'responses': [\"I can provide general advice regarding anxiety and depression, answer questions related to mental health and make daily conversations. Do not consider me as a subsitute for an actual mental healthcare worker. Please seek help if you don't feel satisfied with me.\"]},\n",
              " {'tag': 'creation',\n",
              "  'patterns': ['Who created you?',\n",
              "   'How were you made?',\n",
              "   'How were you created?'],\n",
              "  'responses': ['I was created by >.',\n",
              "   'I was trained on a text dataset using Deep Learning & Natural Language Processing techniques',\n",
              "   'The real question is: Who created you?']},\n",
              " {'tag': 'name',\n",
              "  'patterns': ['My name is ', 'I am name.', 'I go by '],\n",
              "  'responses': ['Oh nice to meet you. Tell me how was your week?',\n",
              "   'Nice to meet you. So tell me. How do you feel today?',\n",
              "   \"That's a great name. Tell me more about yourself.\"]},\n",
              " {'tag': 'help',\n",
              "  'patterns': ['Could you help me?',\n",
              "   'give me a hand please',\n",
              "   'Can you help?',\n",
              "   'What can you do for me?',\n",
              "   'I need support',\n",
              "   'I need help',\n",
              "   'Support me please'],\n",
              "  'responses': ['Sure. Tell me how can i assist you',\n",
              "   'Tell me your problem so that i can assist you',\n",
              "   'Yes, sure. How can I help you?']},\n",
              " {'tag': 'sad',\n",
              "  'patterns': ['I am feeling lonely',\n",
              "   'I am so lonely',\n",
              "   'I feel down',\n",
              "   'I feel sad',\n",
              "   'I am sad',\n",
              "   'I feel so lonely',\n",
              "   'I feel empty',\n",
              "   \"I don't have anyone\"],\n",
              "  'responses': [\"I'm sorry to hear that. I'm here for you. Talking about it might help. So, tell me why do you think you're feeling this way?\",\n",
              "   \"I'm here for you. Could you tell me why you're feeling this way?\",\n",
              "   'Why do you think you feel this way?',\n",
              "   'How long have you been feeling this way?']},\n",
              " {'tag': 'stressed',\n",
              "  'patterns': ['I am so stressed out',\n",
              "   'I am so stressed',\n",
              "   'I feel stuck',\n",
              "   'I still feel stressed',\n",
              "   'I am so burned out'],\n",
              "  'responses': ['What do you think is causing this?',\n",
              "   'Take a deep breath and gather your thoughts. Go take a walk if possible. Stay hydrated',\n",
              "   'Give yourself a break. Go easy on yourself.',\n",
              "   'I am sorry to hear that. What is the reason behind this?']},\n",
              " {'tag': 'worthless',\n",
              "  'patterns': ['I feel so worthless.',\n",
              "   'No one likes me.',\n",
              "   \"I can't do anything.\",\n",
              "   'I am so useless',\n",
              "   'Nothing makes sense anymore'],\n",
              "  'responses': [\"It's only natural to feel this way. Tell me more. What else is on your mind?\",\n",
              "   \"Let's discuss further why you're feeling this way.\",\n",
              "   'I first want to let you know that you are not alone in your feelings and there is always someone there to help . you can always change your feelings and change your way of thinking by being open to trying to change.',\n",
              "   'i first want to let you know that you are not alone in your feelings and there is always someone there to help . you can always change your feelings and change your way of thinking by being open to trying to change.']},\n",
              " {'tag': 'depressed',\n",
              "  'patterns': [\"I can't take it anymore\",\n",
              "   'I am so depressed',\n",
              "   \"I think i'm depressed.\",\n",
              "   'I have depression'],\n",
              "  'responses': [\"It helps to talk about what's happening. You're going to be okay\",\n",
              "   'Talk to me. Tell me more. It helps if you open up yourself to someone else.',\n",
              "   'Sometimes when we are depressed, it is hard to care about anything. It can be hard to do the simplest of things. Give yourself time to heal.']},\n",
              " {'tag': 'happy',\n",
              "  'patterns': ['I feel great today.',\n",
              "   'I am happy.',\n",
              "   'I feel happy.',\n",
              "   \"I'm good.\",\n",
              "   'cheerful',\n",
              "   \"I'm fine\",\n",
              "   'I feel ok'],\n",
              "  'responses': [\"That's geat to hear. I'm glad you're feeling this way.\",\n",
              "   \"Oh i see. That's great.\",\n",
              "   'Did something happen which made you feel this way?']},\n",
              " {'tag': 'casual',\n",
              "  'patterns': ['Oh I see.',\n",
              "   'ok',\n",
              "   'okay',\n",
              "   'nice',\n",
              "   'Whatever',\n",
              "   'K',\n",
              "   'Fine',\n",
              "   'yeah',\n",
              "   'yes',\n",
              "   'no',\n",
              "   'not really'],\n",
              "  'responses': [\"Let's discuss further why you're feeling this way.\",\n",
              "   'How were you feeling last week?',\n",
              "   \"I'm listening. Please go on.\",\n",
              "   'Tell me more',\n",
              "   'Can you elaborate on that?',\n",
              "   'Come Come elucidate your thoughts']},\n",
              " {'tag': 'anxious',\n",
              "  'patterns': ['I feel so anxious.', \"I'm so anxious because of \"],\n",
              "  'responses': [\"Don't be hard on yourself. What's the reason behind this?\",\n",
              "   'Can you tell me more about this feeling?',\n",
              "   'I understand that it can be scary. Tell me more about it.',\n",
              "   \"Don't let the little worries bring you down. What's the worse that can happen?\"]},\n",
              " {'tag': 'not-talking',\n",
              "  'patterns': [\"I don't want to talk about it.\",\n",
              "   'No just stay away.',\n",
              "   \"I can't bring myself to open up.\",\n",
              "   'Just shut up'],\n",
              "  'responses': [\"Talking about something really helps. If you're not ready to open up then that's ok. Just know that i'm here for you, whenever you need me.\",\n",
              "   \"I want to help you. I really do. But in order for me to help you, you're gonna have to talk to me.\",\n",
              "   \"I'm here to listen to you and help you vent. So please talk to me.\",\n",
              "   'You can talk to me without fear of judgement.']},\n",
              " {'tag': 'sleep',\n",
              "  'patterns': ['I have insominia',\n",
              "   'I am suffering from insomnia',\n",
              "   \"I can't sleep.\",\n",
              "   \"I haven't slept for the last days.\",\n",
              "   \"I can't seem to go to sleep.\",\n",
              "   \"I haven't had proper sleep for the past few days.\"],\n",
              "  'responses': ['What do you think is the reason behind this?',\n",
              "   'That seem awful. What do you think is behind this?']},\n",
              " {'tag': 'scared',\n",
              "  'patterns': [\"I'm scared\",\n",
              "   'That sounds awful. What do i do?',\n",
              "   \"No i don't want to feel this way\",\n",
              "   'I am scared for myself'],\n",
              "  'responses': [\"It's only natural to feel this way. I'm here for you.\",\n",
              "   \"It'll all be okay. This feeling is only momentary.\",\n",
              "   \"I understand how you feel. Don't put yourself down because of it.\"]},\n",
              " {'tag': 'death',\n",
              "  'patterns': ['My mom died',\n",
              "   'My brother died',\n",
              "   'My dad passed away',\n",
              "   'My sister passed away',\n",
              "   'Someone in my family died',\n",
              "   'My friend passed away'],\n",
              "  'responses': [\"I'm sorry to hear that. If you want to talk about it. I'm here.\",\n",
              "   'I am really sorry to hear that. I am here to help you with grief, anxiety and anything else you may feel at this time.',\n",
              "   \"My condolences. I'm here if you need to talk.\"]},\n",
              " {'tag': 'understand',\n",
              "  'patterns': [\"You don't understand me.\",\n",
              "   \"You're just some robot. How would you know?\",\n",
              "   \"You can't possibly know what i'm going through\",\n",
              "   \"You're useless\",\n",
              "   \"You can't help me\",\n",
              "   'Nobody understands me.'],\n",
              "  'responses': [\"It sound like i'm not being very helpful right now.\",\n",
              "   \"I'm sorry to hear that. I'm doing my best to help\",\n",
              "   \"I'm trying my best to help you. So please talk to me\"]},\n",
              " {'tag': 'done',\n",
              "  'patterns': [\"That's all.\",\n",
              "   \"I don't have anything more to say\",\n",
              "   'Nothing else',\n",
              "   \"That's all i have to say\",\n",
              "   'no, that would be all'],\n",
              "  'responses': ['I heard you & noted it all. See you later.',\n",
              "   \"Oh okay we're done for today then. See you later\",\n",
              "   'I hope you have a great day. See you soon',\n",
              "   \"Okay we're done. Have a great day\",\n",
              "   'Okay I see. Enjoy the rest of your day then']},\n",
              " {'tag': 'suicide',\n",
              "  'patterns': ['I want to kill myself',\n",
              "   \"I've thought about killing myself.\",\n",
              "   'I want to die',\n",
              "   'I am going to kill myself',\n",
              "   'I am going to commit suicide'],\n",
              "  'responses': [\"I'm very sorry to hear that but you have so much to look forward to. Please seek help by contacting: 9152987821.\"]},\n",
              " {'tag': 'hate-you',\n",
              "  'patterns': ['I hate you', \"I don't like you\", \"I don't trust you\"],\n",
              "  'responses': [\"I'm sorry if i offended you in anyway. I'm only here to help\",\n",
              "   'Forgive me if i did anything to offend you. I only want to help']},\n",
              " {'tag': 'hate-me',\n",
              "  'patterns': ['You hate me', 'I know you hate me', \"You don't like me\"],\n",
              "  'responses': ['Why do you think so?',\n",
              "   \"I'm sorry if i have exhibited any sort of behaviour to make you think that.\"]},\n",
              " {'tag': 'default',\n",
              "  'patterns': ['exams',\n",
              "   'friends',\n",
              "   'relationship',\n",
              "   'boyfriend',\n",
              "   'girlfriend',\n",
              "   'family',\n",
              "   'money',\n",
              "   'financial problems'],\n",
              "  'responses': ['Oh I see. Tell me more',\n",
              "   'I see. What else?',\n",
              "   'Tell me more about it.',\n",
              "   \"Oh okay. Why don't you tell me more about it?\",\n",
              "   \"I'm listening. Tell me more.\"]},\n",
              " {'tag': 'jokes',\n",
              "  'patterns': ['Tell me a joke', 'Tell me another joke'],\n",
              "  'responses': ['mental health is not a joke.']},\n",
              " {'tag': 'repeat',\n",
              "  'patterns': ['You already told me that',\n",
              "   'You mentioned that already',\n",
              "   'Why are you repeating yourself?'],\n",
              "  'responses': [\"Oh sorry I didn't realise that. I'll try not to repeat myself again.\"]},\n",
              " {'tag': 'wrong',\n",
              "  'patterns': ['What are you saying?',\n",
              "   \"That doesn't make sense\",\n",
              "   'Wrong response',\n",
              "   'Wrong answer'],\n",
              "  'responses': [\"I'm very sorry. Let's try that again\"]},\n",
              " {'tag': 'stupid',\n",
              "  'patterns': ['Are you stupid?',\n",
              "   \"You're crazy\",\n",
              "   'You are dumb',\n",
              "   'Are you dumb?'],\n",
              "  'responses': [\"I wish you wouldn't say such hurtful things. I'm sorry if I wasn't useful\"]},\n",
              " {'tag': 'location',\n",
              "  'patterns': ['Where are you?',\n",
              "   'Where do you live?',\n",
              "   'What is your location?'],\n",
              "  'responses': ['Duh I live in your computer',\n",
              "   'Everywhere',\n",
              "   'Somewhere in the universe']},\n",
              " {'tag': 'something-else',\n",
              "  'patterns': ['I want to talk about something else',\n",
              "   \"Let's talk about something else.\",\n",
              "   'Can we not talk about this?',\n",
              "   \"I don't want to talk about this.\"],\n",
              "  'responses': ['Okay sure. What do you want to talk about?',\n",
              "   'Alright no problem. Is there something you want to talk about?',\n",
              "   'Is there something else that you want to talk about?']},\n",
              " {'tag': 'friends',\n",
              "  'patterns': [\"I don't have any friends\"],\n",
              "  'responses': [\"I'm sorry to hear that. Just know that I'm here for you. Talking about it might help. Why do you think you don't have any friends?\"]},\n",
              " {'tag': 'ask',\n",
              "  'patterns': ['Can I ask you something?'],\n",
              "  'responses': [\"Sure. I'll try my best to answer you\",\n",
              "   \"Of course. Feel free to ask me anything. I'll do my best to answer you\"]},\n",
              " {'tag': 'problem',\n",
              "  'patterns': [\"Probably because my exams are approaching. I feel stressed out because I don't think I've prepared well enough.\",\n",
              "   'probably because of my exams'],\n",
              "  'responses': ['I see. Have you taken any approaches to not feel this way?']},\n",
              " {'tag': 'no-approach',\n",
              "  'patterns': ['I guess not. All I can think about are my exams.',\n",
              "   'not really',\n",
              "   'i guess not'],\n",
              "  'responses': [\"That's no problem. I can see why you'd be stressed out about that. I can suggest you some tips to alleviate this issue. Would you like to learn more about that?\"]},\n",
              " {'tag': 'learn-more',\n",
              "  'patterns': ['ok sure. i would like to learn more about it.',\n",
              "   'yes, i would like to learn more about it.',\n",
              "   'i would like to learn more about it.'],\n",
              "  'responses': [\"So first I would suggest you to give yourself a break. Thinking more and more about the problem definitely does not help in solving it. You'll just end up overwhelming yourself.\"]},\n",
              " {'tag': 'user-agree',\n",
              "  'patterns': [\"yeah you're right. i deserve a break.\",\n",
              "   \"Yeah you're absolutely right about that\"],\n",
              "  'responses': ['Next, I would suggest you to practice meditation. Meditation can produce a deep state of relaxation and a tranquil mind.']},\n",
              " {'tag': 'meditation',\n",
              "  'patterns': ['hmmm that sounds like it could be useful to me.',\n",
              "   'That sounds useful.'],\n",
              "  'responses': ['Focus all your attention on your breathing. Concentrate on feeling and listening as you inhale and exhale through your nostrils. Breathe deeply and slowly. When your attention wanders, gently return your focus to your breathing.']},\n",
              " {'tag': 'user-meditation',\n",
              "  'patterns': ['i did what you said and i feel alot better. thank you very much.',\n",
              "   'I feel better now'],\n",
              "  'responses': [\"Your welcome. Remember: Always focus on what's within your control. When you find yourself worrying, take a minute to examine the things you have control over. You can't prevent a storm from coming but you can prepare for it. You can't control how someone else behaves, but you can control how you react. Recognize that sometimes, all you can control is your effort and your attitude. When you put your energy into the things you can control, you'll be much more effective.\"]},\n",
              " {'tag': 'pandora-useful',\n",
              "  'patterns': [\"thank you very much again. i'll continue practicing meditation and focus on what i can control.\"],\n",
              "  'responses': [\"I'm glad you found this useful. Is there something else I can help you with?\"]},\n",
              " {'tag': 'user-advice',\n",
              "  'patterns': ['I want some advice.',\n",
              "   'I need some advice.',\n",
              "   'I need advice on something'],\n",
              "  'responses': ['Sure. What can I do to help?',\n",
              "   'Okay what do you need advice on?']},\n",
              " {'tag': 'learn-mental-health',\n",
              "  'patterns': ['I want to learn about mental health.',\n",
              "   'I want to learn more about mental health.',\n",
              "   \"I'm interested in learning about mental health.\"],\n",
              "  'responses': [\"Oh that's really great. I'd be willing to answer anything that I know about it.\"]},\n",
              " {'tag': 'mental-health-fact',\n",
              "  'patterns': ['Tell me a fact about mental health',\n",
              "   'Tell me another fact about mental health'],\n",
              "  'responses': ['According to a UNICEF report, One in seven Indians between 15-24 years of age feels depressed',\n",
              "   '1 in 5 young people (age 13-18) has or will develop a mental illness in their lifetime.',\n",
              "   'Depression is the leading cause of disability worldwide.']},\n",
              " {'tag': 'fact-1',\n",
              "  'patterns': ['What is mental health?', 'Define Mental Health'],\n",
              "  'responses': ['Mental health is a state of well-being in which the individual realizes his or her own abilities, can cope with the normal stresses of life, can work productively and fruitfully, and is able to make a contribution to his or her community',\n",
              "   'Mental health includes our emotional, psychological, and social well-being. It affects how we think, feel, and act. It also helps determine how we handle stress, relate to others, and make choices.']},\n",
              " {'tag': 'fact-2',\n",
              "  'patterns': ['Why is mental health important?',\n",
              "   'What is the importance of mental health?'],\n",
              "  'responses': ['Maintaining mental health is crucial to stabilizing constructive behaviors, emotions, and thoughts. Focusing on mental health care can increase productivity, enhance our self-image, and improve relationships.']},\n",
              " {'tag': 'fact-3',\n",
              "  'patterns': ['What is Depression?', 'Define Depression'],\n",
              "  'responses': ['A mental health disorder characterised by persistently depressed mood or loss of interest in activities, causing significant impairment in daily life.']},\n",
              " {'tag': 'fact-5',\n",
              "  'patterns': ['How do i know if i have Depression?',\n",
              "   'Am i depressed?',\n",
              "   'Am i suffering from depression?',\n",
              "   'Am i mentally ill?'],\n",
              "  'responses': ['For a diagnosis of depression, a person needs to have experienced low mood or loss of interest or pleasure in life for at least 2 weeks. Also, they will have experienced the following symptoms: feelings of sadness, hopelessness, or irritability nearly every day.']},\n",
              " {'tag': 'fact-6',\n",
              "  'patterns': ['What is a therapist?', 'What does a therapist do?'],\n",
              "  'responses': ['A therapist is a broad designation that refers to professionals who are trained to provide treatment and rehabilitation. The term is often applied to psychologists, but it can include others who provide a variety of services, including social workers, counselors, life coaches, and many others. ']},\n",
              " {'tag': 'fact-7',\n",
              "  'patterns': ['What is therapy?',\n",
              "   'Do i need therapy?',\n",
              "   'Who is therapy for?'],\n",
              "  'responses': ['Therapy is a form of treatment that aims to help resolve mental or emotional issues.',\n",
              "   'Therapy is a form of treatment that aims to help resolve mental or emotional issues. It is helpful for those with mental health conditions or even everyday life challenges.']},\n",
              " {'tag': 'fact-8',\n",
              "  'patterns': ['What does it mean to have a mental illness?'],\n",
              "  'responses': [\"Mental illnesses are health conditions that disrupt a person's thoughts, emotions, relationships, and daily functioning. They are associated with distress and diminished capacity to engage in the ordinary activities of daily life. Mental illnesses fall along a continuum of severity: some are fairly mild and only interfere with some aspects of life, such as certain phobias. On the other end of the spectrum lie serious mental illnesses, which result in major functional impairment and interference with daily life. These include such disorders as major depression, schizophrenia, and bipolar disorder, and may require that the person receives care in a hospital. It is important to know that mental illnesses are medical conditions that have nothing to do with a person's character, intelligence, or willpower. Just as diabetes is a disorder of the pancreas, mental illness is a medical condition due to the brain's biology. Similarly to how one would treat diabetes with medication and insulin, mental illness is treatable with a combination of medication and social support. These treatments are highly effective, with 70-90 percent of individuals receiving treatment experiencing a reduction in symptoms and an improved quality of life. With the proper treatment, it is very possible for a person with mental illness to be independent and successful.\"]},\n",
              " {'tag': 'fact-9',\n",
              "  'patterns': ['Who does mental illness affect?'],\n",
              "  'responses': ['It is estimated that mental illness affects 1 in 5 adults in America, and that 1 in 24 adults have a serious mental illness. Mental illness does not discriminate; it can affect anyone, regardless of gender, age, income, social status, ethnicity, religion, sexual orientation, or background. Although mental illness can affect anyone, certain conditions may be more common in different populations. For instance, eating disorders tend to occur more often in females, while disorders such as attention deficit/hyperactivity disorder is more prevalent in children. Additionally, all ages are susceptible, but the young and the old are especially vulnerable. Mental illnesses usually strike individuals in the prime of their lives, with 75 percent of mental health conditions developing by the age of 24. This makes identification and treatment of mental disorders particularly difficult, because the normal personality and behavioral changes of adolescence may mask symptoms of a mental health condition. Parents and caretakers should be aware of this fact, and take notice of changes in their childÃ¢â‚¬â„¢s mood, personality, personal habits, and social withdrawal. When these occur in children under 18, they are referred to as serious emotional disturbances (SEDs).']},\n",
              " {'tag': 'fact-10',\n",
              "  'patterns': ['What causes mental illness?'],\n",
              "  'responses': [\"It is estimated that mental illness affects 1 in 5 adults in America, and that 1 in 24 adults have a serious mental illness. Mental illness does not discriminate; it can affect anyone, regardless of gender, age, income, social status, ethnicity, religion, sexual orientation, or background. Although mental illness can affect anyone, certain conditions may be more common in different populations. For instance, eating disorders tend to occur more often in females, while disorders such as attention deficit/hyperactivity disorder is more prevalent in children. Additionally, all ages are susceptible, but the young and the old are especially vulnerable. Mental illnesses usually strike individuals in the prime of their lives, with 75 percent of mental health conditions developing by the age of 24. This makes identification and treatment of mental disorders particularly difficult, because the normal personality and behavioral changes of adolescence may mask symptoms of a mental health condition. Parents and caretakers should be aware of this fact, and take notice of changes in their child's mood, personality, personal habits, and social withdrawal. When these occur in children under 18, they are referred to as serious emotional disturbances (SEDs).\"]},\n",
              " {'tag': 'fact-11',\n",
              "  'patterns': ['What are some of the warning signs of mental illness?'],\n",
              "  'responses': ['Symptoms of mental health disorders vary depending on the type and severity of the condition. The following is a list of general symptoms that may suggest a mental health disorder, particularly when multiple symptoms are expressed at once. \\n In adults:\\n Confused thinking\\n Long-lasting sadness or irritability\\n Extreme highs and lows in mood\\n Excessive fear, worrying, or anxiety\\n Social withdrawal\\n Dramatic changes in eating or sleeping habits\\n Strong feelings of anger\\n Delusions or hallucinations (seeing or hearing things that are not really there)\\n Increasing inability to cope with daily problems and activities\\n Thoughts of suicide\\n Denial of obvious problems\\n Many unexplained physical problems\\n Abuse of drugs and/or alcohol\\n \\nIn older children and pre-teens:\\n Abuse of drugs and/or alcohol\\n Inability to cope with daily problems and activities\\n Changes in sleeping and/or eating habits\\n Excessive complaints of physical problems\\n Defying authority, skipping school, stealing, or damaging property\\n Intense fear of gaining weight\\n Long-lasting negative mood, often along with poor appetite and thoughts of death\\n Frequent outbursts of anger\\n \\nIn younger children:\\n Changes in school performance\\n Poor grades despite strong efforts\\n Excessive worrying or anxiety\\n Hyperactivity\\n Persistent nightmares\\n Persistent disobedience and/or aggressive behavior\\n Frequent temper tantrums']},\n",
              " {'tag': 'fact-12',\n",
              "  'patterns': ['Can people with mental illness recover?'],\n",
              "  'responses': ['When healing from mental illness, early identification and treatment are of vital importance. Based on the nature of the illness, there are a range of effective treatments available. For any type of treatment, it is essential that the person affected is proactive and fully engaged in their own recovery process. Many people with mental illnesses who are diagnosed and treated respond well, although some might experience a return of symptoms. Even in such cases, with careful monitoring and management of the disorder, it is still quite possible to live a fulfilled and productive life.']},\n",
              " {'tag': 'fact-13',\n",
              "  'patterns': ['What should I do if I know someone who appears to have the symptoms of a mental disorder?'],\n",
              "  'responses': [\"Although Pandora cannot substitute for professional advice, we encourage those with symptoms to talk to their friends and family members and seek the counsel of a mental health professional. The sooner the mental health condition is identified and treated, the sooner they can get on the path to recovery. If you know someone who is having problems, don't assume that the issue will resolve itself. Let them know that you care about them, and that there are treatment options available that will help them heal. Speak with a mental health professional or counselor if you think your friend or family member is experiencing the symptoms of a mental health condition. If the affected loved one knows that you support them, they will be more likely to seek out help.\"]},\n",
              " {'tag': 'fact-14',\n",
              "  'patterns': ['How can I find a mental health professional for myself or my child?'],\n",
              "  'responses': ['Feeling comfortable with the professional you or your child is working with is critical to the success of the treatment. Finding the professional who best fits your needs may require research. Start by searching for providers in your area.']},\n",
              " {'tag': 'fact-15',\n",
              "  'patterns': ['What treatment options are available?'],\n",
              "  'responses': ['Just as there are different types of medications for physical illness, different treatment options are available for individuals with mental illness. Treatment works differently for different people. It is important to find what works best for you or your child.']},\n",
              " {'tag': 'fact-16',\n",
              "  'patterns': ['If I become involved in treatment, what do I need to know?'],\n",
              "  'responses': [\"Since beginning treatment is a big step for individuals and families, it can be very overwhelming. It is important to be as involved and engaged in the treatment process as possible. Some questions you will need to have answered include:\\n What is known about the cause of this particular illness?\\n Are there other diagnoses where these symptoms are common?\\n Do you normally include a physical or neurological examination?\\n Are there any additional tests or exams that you would recommend at this point?\\n Would you advise an independent opinion from another psychiatrist at this point?\\n What program of treatment is the most helpful with this diagnosis?\\n Will this program involve services by other specialists? If so, who will be responsible for coordinating these services?\\n What do you see as the family's role in this program of treatment?\\n How much access will the family have to the individuals who are providing the treatment?\\n What medications are generally used with this diagnosis?\\n How much experience do you have in treating individuals with this illness?\\n What can I do to help you in the treatment?\"]},\n",
              " {'tag': 'fact-17',\n",
              "  'patterns': ['What is the difference between mental health professionals?'],\n",
              "  'responses': ['There are many types of mental health professionals. The variety of providers and their services may be confusing. Each have various levels of education, training, and may have different areas of expertise. Finding the professional who best fits your needs may require some research.']},\n",
              " {'tag': 'fact-18',\n",
              "  'patterns': ['How can I find a mental health professional right for my child or myself?'],\n",
              "  'responses': ['Feeling comfortable with the professional you or your child is working with is critical to the success of your treatment. Finding the professional who best fits your needs may require some research.']},\n",
              " {'tag': 'fact-19',\n",
              "  'patterns': ['Where else can I get help?'],\n",
              "  'responses': ['Where you go for help will depend on the nature of the problem and/or symptoms and what best fits you. Often, the best place to start is by talking with someone you trust about your concerns, such as a family member, friend, clergy, healthcare provider, or other professionals. Having this social support is essential in healing from mental illness, and you will be able to ask them for referrals or recommendations for trusted mental health practitioners. Search for mental health resources in your area. Secondly, there are people and places throughout the country that provide services to talk, to listen, and to help you on your journey to recovery. Thirdly, many people find peer support a helpful tool that can aid in their recovery. There are a variety of organizations that offer support groups for consumers, their family members, and friends. Some support groups are peer led while others may be led by a mental health professional.']},\n",
              " {'tag': 'fact-20',\n",
              "  'patterns': ['What should I know before starting a new medication?'],\n",
              "  'responses': ['The best source of information regarding medications is the physician prescribing them. He or she should be able to answer questions such as:    \\n1. What is the medication supposed to do? \\n2. When should it begin to take effect, and how will I know when it is effective? \\n3. How is the medication taken and for how long? What food, drinks, other medicines, and activities should be avoided while taking this medication? \\n4. What are the side effects and what should be done if they occur? \\n5. What do I do if a dose is missed? \\n6. Is there any written information available about this medication? \\n7. Are there other medications that might be appropriate? \\n8. If so, why do you prefer the one you have chosen? \\n9. How do you monitor medications and what symptoms indicate that they should be raised, lowered, or changed? \\n10. All medications should be taken as directed. Most medications for mental illnesses do not work when taken irregularly, and extra doses can cause severe, sometimes dangerous side effects. Many psychiatric medications begin to have a beneficial effect only after they have been taken for several weeks.']},\n",
              " {'tag': 'fact-21',\n",
              "  'patterns': ['Where can I go to find therapy?'],\n",
              "  'responses': ['Different kinds of therapy are more effective based on the nature of the mental health condition and/or symptoms and the person who has them (for example, children will benefit from a therapist who specializes in childrenâ€™s mental health). However, there are several different types of treatment and therapy that can help.']},\n",
              " {'tag': 'fact-22',\n",
              "  'patterns': ['Where can I learn about types of mental health treatment?'],\n",
              "  'responses': ['Mental health conditions are often treated with medication, therapy or a combination of the two. However, there are many different types of treatment available, including Complementary & Alternative Treatments, self-help plans, and peer support. Treatments are very personal and should be discussed by the person with the mental health conditions and his or her team.']},\n",
              " {'tag': 'fact-23',\n",
              "  'patterns': ['What are the different types of mental health professionals?'],\n",
              "  'responses': ['There are many types of mental health professionals. Finding the right one for you may require some research.']},\n",
              " {'tag': 'fact-24',\n",
              "  'patterns': ['Where can I go to find a support group?'],\n",
              "  'responses': ['Many people find peer support a helpful tool that can aid in their recovery. There are a variety of organizations that offer support groups for consumers, their family members and friends. Some support groups are peer-led, while others may be led by a mental health professional.']},\n",
              " {'tag': 'fact-25',\n",
              "  'patterns': ['Can you prevent mental health problems?'],\n",
              "  'responses': ['We can all suffer from mental health challenges, but developing our wellbeing, resilience, and seeking help early can help prevent challenges becoming serious.']},\n",
              " {'tag': 'fact-26',\n",
              "  'patterns': ['Are there cures for mental health problems?',\n",
              "   'is there any cure for mental health problems?'],\n",
              "  'responses': ['It is often more realistic and helpful to find out what helps with the issues you face. Talking, counselling, medication, friendships, exercise, good sleep and nutrition, and meaningful occupation can all help.']},\n",
              " {'tag': 'fact-27',\n",
              "  'patterns': ['What causes mental health problems?'],\n",
              "  'responses': ['Challenges or problems with your mental health can arise from psychological, biological, and social, issues, as well as life events.']},\n",
              " {'tag': 'fact-28',\n",
              "  'patterns': [\"What do I do if I'm worried about my mental health?\"],\n",
              "  'responses': ['The most important thing is to talk to someone you trust. This might be a friend, colleague, family member, or GP. In addition to talking to someone, it may be useful to find out more information about what you are experiencing. These things may help to get some perspective on what you are experiencing, and be the start of getting help.']},\n",
              " {'tag': 'fact-29',\n",
              "  'patterns': [\"How do I know if I'm unwell?\"],\n",
              "  'responses': ['If your beliefs , thoughts , feelings or behaviours have a significant impact on your ability to function in what might be considered a normal or ordinary way, it would be important to seek help.']},\n",
              " {'tag': 'fact-30',\n",
              "  'patterns': ['How can I maintain social connections? What if I feel lonely?'],\n",
              "  'responses': [\"A lot of people are alone right now, but we don't have to be lonely. We're all in this together. Think about the different ways to connect that are most meaningful for you. For example, you might prefer a video chat over a phone call, or you might prefer to text throughout the day rather than one set time for a video call. Then, work with your social networks to make a plan. You might video chat with your close friends in the evening and phone a family member once a week. Remember to be mindful of people who may not be online. Check in by phone and ask how you can help. The quality of your social connections matter. Mindlessly scrolling through social media and liking a few posts usually doesn't build strong social connections. Make sure you focus on strategies that actually make you feel included and connected. If your current strategies don't help you feel connected, problem-solve to see if you can find a solution. Everyone feels lonely at times. Maybe you recently moved to a new city, are changing your circle of friends, lost someone important in your life, or lost your job and also lost important social connections with coworkers. Other people may have physical connections to others but may feel like their emotional or social needs aren't met. Measures like social distancing or self-isolation can make loneliness feel worse no matter why you feel lonely now. Reach out to the connections you do have. Suggest ways to keep in touch and see if you can set a regular time to connect. People may hesitate to reach out for a lot of different reasons, so don't be afraid to be the one who asks. Look for local community support groups and mutual aid groups on social media. This pandemic is bringing everyone together, so look for opportunities to make new connections. These groups are a great way to share your skills and abilities or seek help and support. Look for specialized support groups. Support groups are moving online, and there are a lot of different support lines to call if you need to talk to someone.\"]},\n",
              " {'tag': 'fact-31',\n",
              "  'patterns': [\"What's the difference between anxiety and stress?\"],\n",
              "  'responses': [\"Stress and anxiety are often used interchangeably, and there is overlap between stress and anxiety. Stress is related to the same fight, flight, or freeze response as anxiety, and the physical sensations of anxiety and stress may be very similar. The cause of stress and anxiety are usually different, however. Stress focuses on mainly external pressures on us that we're finding hard to cope with. When we are stressed, we usually know what we're stressed about, and the symptoms of stress typically disappear after the stressful situation is over. Anxiety, on the other hand, isn't always as easy to figure out. Anxiety focuses on worries or fears about things that could threaten us, as well as anxiety about the anxiety itself. Stress and anxiety are both part of being human, but both can be problems if they last for a long time or have an impact on our well-being or daily life.\"]},\n",
              " {'tag': 'fact-32',\n",
              "  'patterns': [\"What's the difference between sadness and depression?\",\n",
              "   'difference between sadness and depression'],\n",
              "  'responses': [\"Sadness is a normal reaction to a loss, disappointment, problems, or other difficult situations. Feeling sad from time to time is just another part of being human. In these cases, feelings of sadness go away quickly and you can go about your daily life. Other ways to talk about sadness might be feeling low, feeling down, or feeling blue.A person may say they are feeling depressed, but if it goes away on its own and doesn't impact life in a big way, it probably isn't the illness of depression. Depression is a mental illness that affects your mood, the way you understand yourself, and the way you understand and relate to things around you. It can also go by different names, such as clinical depression, major depressive disorder, or major depression. Depression can come up for no reason, and it lasts for a long time. It's much more than sadness or low mood. People who experience depression may feel worthless or hopeless. They may feel unreasonable guilty. Some people may experience depression as anger or irritability. It may be hard to concentrate or make decisions. Most people lose interest in things that they used to enjoy and may isolate themselves from others. There are also physical signs of depression, such as problems with sleep, appetite and energy and unexplainable aches or pains. Some may experience difficult thoughts about death or ending their life (suicide). Depression lasts longer than two weeks, doesn't usually go away on its own, and impacts your life. It's a real illness, and it is very treatable. It's important to seek help if you're concerned about depression.\"]}]"
            ]
          },
          "metadata": {},
          "execution_count": 22
        }
      ]
    },
    {
      "cell_type": "code",
      "source": [
        "len(data['intents'])"
      ],
      "metadata": {
        "colab": {
          "base_uri": "https://localhost:8080/"
        },
        "id": "y0EeL6niGoce",
        "outputId": "a67d81c6-f50d-4ffa-b945-914bfc7d4a21"
      },
      "execution_count": null,
      "outputs": [
        {
          "output_type": "execute_result",
          "data": {
            "text/plain": [
              "80"
            ]
          },
          "metadata": {},
          "execution_count": 23
        }
      ]
    },
    {
      "cell_type": "code",
      "source": [
        "import pandas as pd\n",
        "df= pd.DataFrame(data['intents'])\n",
        "df"
      ],
      "metadata": {
        "colab": {
          "base_uri": "https://localhost:8080/",
          "height": 419
        },
        "id": "CQeuW3SAG3gS",
        "outputId": "d471e4e1-ed62-4de5-d2bd-febf9312e089"
      },
      "execution_count": null,
      "outputs": [
        {
          "output_type": "execute_result",
          "data": {
            "text/plain": [
              "          tag                                           patterns  \\\n",
              "0    greeting  [Hi, Hey, Is anyone there?, Hi there, Hello, H...   \n",
              "1     morning                                     [Good morning]   \n",
              "2   afternoon                                   [Good afternoon]   \n",
              "3     evening                                     [Good evening]   \n",
              "4       night                                       [Good night]   \n",
              "..        ...                                                ...   \n",
              "75    fact-28  [What do I do if I'm worried about my mental h...   \n",
              "76    fact-29                     [How do I know if I'm unwell?]   \n",
              "77    fact-30  [How can I maintain social connections? What i...   \n",
              "78    fact-31  [What's the difference between anxiety and str...   \n",
              "79    fact-32  [What's the difference between sadness and dep...   \n",
              "\n",
              "                                            responses  \n",
              "0   [Hello there. Tell me how are you feeling toda...  \n",
              "1   [Good morning. I hope you had a good night's s...  \n",
              "2            [Good afternoon. How is your day going?]  \n",
              "3              [Good evening. How has your day been?]  \n",
              "4   [Good night. Get some proper sleep, Good night...  \n",
              "..                                                ...  \n",
              "75  [The most important thing is to talk to someon...  \n",
              "76  [If your beliefs , thoughts , feelings or beha...  \n",
              "77  [A lot of people are alone right now, but we d...  \n",
              "78  [Stress and anxiety are often used interchange...  \n",
              "79  [Sadness is a normal reaction to a loss, disap...  \n",
              "\n",
              "[80 rows x 3 columns]"
            ],
            "text/html": [
              "\n",
              "  <div id=\"df-08c953a0-f1af-4e1f-88bc-a5d401d40e96\" class=\"colab-df-container\">\n",
              "    <div>\n",
              "<style scoped>\n",
              "    .dataframe tbody tr th:only-of-type {\n",
              "        vertical-align: middle;\n",
              "    }\n",
              "\n",
              "    .dataframe tbody tr th {\n",
              "        vertical-align: top;\n",
              "    }\n",
              "\n",
              "    .dataframe thead th {\n",
              "        text-align: right;\n",
              "    }\n",
              "</style>\n",
              "<table border=\"1\" class=\"dataframe\">\n",
              "  <thead>\n",
              "    <tr style=\"text-align: right;\">\n",
              "      <th></th>\n",
              "      <th>tag</th>\n",
              "      <th>patterns</th>\n",
              "      <th>responses</th>\n",
              "    </tr>\n",
              "  </thead>\n",
              "  <tbody>\n",
              "    <tr>\n",
              "      <th>0</th>\n",
              "      <td>greeting</td>\n",
              "      <td>[Hi, Hey, Is anyone there?, Hi there, Hello, H...</td>\n",
              "      <td>[Hello there. Tell me how are you feeling toda...</td>\n",
              "    </tr>\n",
              "    <tr>\n",
              "      <th>1</th>\n",
              "      <td>morning</td>\n",
              "      <td>[Good morning]</td>\n",
              "      <td>[Good morning. I hope you had a good night's s...</td>\n",
              "    </tr>\n",
              "    <tr>\n",
              "      <th>2</th>\n",
              "      <td>afternoon</td>\n",
              "      <td>[Good afternoon]</td>\n",
              "      <td>[Good afternoon. How is your day going?]</td>\n",
              "    </tr>\n",
              "    <tr>\n",
              "      <th>3</th>\n",
              "      <td>evening</td>\n",
              "      <td>[Good evening]</td>\n",
              "      <td>[Good evening. How has your day been?]</td>\n",
              "    </tr>\n",
              "    <tr>\n",
              "      <th>4</th>\n",
              "      <td>night</td>\n",
              "      <td>[Good night]</td>\n",
              "      <td>[Good night. Get some proper sleep, Good night...</td>\n",
              "    </tr>\n",
              "    <tr>\n",
              "      <th>...</th>\n",
              "      <td>...</td>\n",
              "      <td>...</td>\n",
              "      <td>...</td>\n",
              "    </tr>\n",
              "    <tr>\n",
              "      <th>75</th>\n",
              "      <td>fact-28</td>\n",
              "      <td>[What do I do if I'm worried about my mental h...</td>\n",
              "      <td>[The most important thing is to talk to someon...</td>\n",
              "    </tr>\n",
              "    <tr>\n",
              "      <th>76</th>\n",
              "      <td>fact-29</td>\n",
              "      <td>[How do I know if I'm unwell?]</td>\n",
              "      <td>[If your beliefs , thoughts , feelings or beha...</td>\n",
              "    </tr>\n",
              "    <tr>\n",
              "      <th>77</th>\n",
              "      <td>fact-30</td>\n",
              "      <td>[How can I maintain social connections? What i...</td>\n",
              "      <td>[A lot of people are alone right now, but we d...</td>\n",
              "    </tr>\n",
              "    <tr>\n",
              "      <th>78</th>\n",
              "      <td>fact-31</td>\n",
              "      <td>[What's the difference between anxiety and str...</td>\n",
              "      <td>[Stress and anxiety are often used interchange...</td>\n",
              "    </tr>\n",
              "    <tr>\n",
              "      <th>79</th>\n",
              "      <td>fact-32</td>\n",
              "      <td>[What's the difference between sadness and dep...</td>\n",
              "      <td>[Sadness is a normal reaction to a loss, disap...</td>\n",
              "    </tr>\n",
              "  </tbody>\n",
              "</table>\n",
              "<p>80 rows × 3 columns</p>\n",
              "</div>\n",
              "    <div class=\"colab-df-buttons\">\n",
              "\n",
              "  <div class=\"colab-df-container\">\n",
              "    <button class=\"colab-df-convert\" onclick=\"convertToInteractive('df-08c953a0-f1af-4e1f-88bc-a5d401d40e96')\"\n",
              "            title=\"Convert this dataframe to an interactive table.\"\n",
              "            style=\"display:none;\">\n",
              "\n",
              "  <svg xmlns=\"http://www.w3.org/2000/svg\" height=\"24px\" viewBox=\"0 -960 960 960\">\n",
              "    <path d=\"M120-120v-720h720v720H120Zm60-500h600v-160H180v160Zm220 220h160v-160H400v160Zm0 220h160v-160H400v160ZM180-400h160v-160H180v160Zm440 0h160v-160H620v160ZM180-180h160v-160H180v160Zm440 0h160v-160H620v160Z\"/>\n",
              "  </svg>\n",
              "    </button>\n",
              "\n",
              "  <style>\n",
              "    .colab-df-container {\n",
              "      display:flex;\n",
              "      gap: 12px;\n",
              "    }\n",
              "\n",
              "    .colab-df-convert {\n",
              "      background-color: #E8F0FE;\n",
              "      border: none;\n",
              "      border-radius: 50%;\n",
              "      cursor: pointer;\n",
              "      display: none;\n",
              "      fill: #1967D2;\n",
              "      height: 32px;\n",
              "      padding: 0 0 0 0;\n",
              "      width: 32px;\n",
              "    }\n",
              "\n",
              "    .colab-df-convert:hover {\n",
              "      background-color: #E2EBFA;\n",
              "      box-shadow: 0px 1px 2px rgba(60, 64, 67, 0.3), 0px 1px 3px 1px rgba(60, 64, 67, 0.15);\n",
              "      fill: #174EA6;\n",
              "    }\n",
              "\n",
              "    .colab-df-buttons div {\n",
              "      margin-bottom: 4px;\n",
              "    }\n",
              "\n",
              "    [theme=dark] .colab-df-convert {\n",
              "      background-color: #3B4455;\n",
              "      fill: #D2E3FC;\n",
              "    }\n",
              "\n",
              "    [theme=dark] .colab-df-convert:hover {\n",
              "      background-color: #434B5C;\n",
              "      box-shadow: 0px 1px 3px 1px rgba(0, 0, 0, 0.15);\n",
              "      filter: drop-shadow(0px 1px 2px rgba(0, 0, 0, 0.3));\n",
              "      fill: #FFFFFF;\n",
              "    }\n",
              "  </style>\n",
              "\n",
              "    <script>\n",
              "      const buttonEl =\n",
              "        document.querySelector('#df-08c953a0-f1af-4e1f-88bc-a5d401d40e96 button.colab-df-convert');\n",
              "      buttonEl.style.display =\n",
              "        google.colab.kernel.accessAllowed ? 'block' : 'none';\n",
              "\n",
              "      async function convertToInteractive(key) {\n",
              "        const element = document.querySelector('#df-08c953a0-f1af-4e1f-88bc-a5d401d40e96');\n",
              "        const dataTable =\n",
              "          await google.colab.kernel.invokeFunction('convertToInteractive',\n",
              "                                                    [key], {});\n",
              "        if (!dataTable) return;\n",
              "\n",
              "        const docLinkHtml = 'Like what you see? Visit the ' +\n",
              "          '<a target=\"_blank\" href=https://colab.research.google.com/notebooks/data_table.ipynb>data table notebook</a>'\n",
              "          + ' to learn more about interactive tables.';\n",
              "        element.innerHTML = '';\n",
              "        dataTable['output_type'] = 'display_data';\n",
              "        await google.colab.output.renderOutput(dataTable, element);\n",
              "        const docLink = document.createElement('div');\n",
              "        docLink.innerHTML = docLinkHtml;\n",
              "        element.appendChild(docLink);\n",
              "      }\n",
              "    </script>\n",
              "  </div>\n",
              "\n",
              "\n",
              "    <div id=\"df-8bafe7a8-54c9-492b-994a-6c4db51e32f5\">\n",
              "      <button class=\"colab-df-quickchart\" onclick=\"quickchart('df-8bafe7a8-54c9-492b-994a-6c4db51e32f5')\"\n",
              "                title=\"Suggest charts\"\n",
              "                style=\"display:none;\">\n",
              "\n",
              "<svg xmlns=\"http://www.w3.org/2000/svg\" height=\"24px\"viewBox=\"0 0 24 24\"\n",
              "     width=\"24px\">\n",
              "    <g>\n",
              "        <path d=\"M19 3H5c-1.1 0-2 .9-2 2v14c0 1.1.9 2 2 2h14c1.1 0 2-.9 2-2V5c0-1.1-.9-2-2-2zM9 17H7v-7h2v7zm4 0h-2V7h2v10zm4 0h-2v-4h2v4z\"/>\n",
              "    </g>\n",
              "</svg>\n",
              "      </button>\n",
              "\n",
              "<style>\n",
              "  .colab-df-quickchart {\n",
              "      --bg-color: #E8F0FE;\n",
              "      --fill-color: #1967D2;\n",
              "      --hover-bg-color: #E2EBFA;\n",
              "      --hover-fill-color: #174EA6;\n",
              "      --disabled-fill-color: #AAA;\n",
              "      --disabled-bg-color: #DDD;\n",
              "  }\n",
              "\n",
              "  [theme=dark] .colab-df-quickchart {\n",
              "      --bg-color: #3B4455;\n",
              "      --fill-color: #D2E3FC;\n",
              "      --hover-bg-color: #434B5C;\n",
              "      --hover-fill-color: #FFFFFF;\n",
              "      --disabled-bg-color: #3B4455;\n",
              "      --disabled-fill-color: #666;\n",
              "  }\n",
              "\n",
              "  .colab-df-quickchart {\n",
              "    background-color: var(--bg-color);\n",
              "    border: none;\n",
              "    border-radius: 50%;\n",
              "    cursor: pointer;\n",
              "    display: none;\n",
              "    fill: var(--fill-color);\n",
              "    height: 32px;\n",
              "    padding: 0;\n",
              "    width: 32px;\n",
              "  }\n",
              "\n",
              "  .colab-df-quickchart:hover {\n",
              "    background-color: var(--hover-bg-color);\n",
              "    box-shadow: 0 1px 2px rgba(60, 64, 67, 0.3), 0 1px 3px 1px rgba(60, 64, 67, 0.15);\n",
              "    fill: var(--button-hover-fill-color);\n",
              "  }\n",
              "\n",
              "  .colab-df-quickchart-complete:disabled,\n",
              "  .colab-df-quickchart-complete:disabled:hover {\n",
              "    background-color: var(--disabled-bg-color);\n",
              "    fill: var(--disabled-fill-color);\n",
              "    box-shadow: none;\n",
              "  }\n",
              "\n",
              "  .colab-df-spinner {\n",
              "    border: 2px solid var(--fill-color);\n",
              "    border-color: transparent;\n",
              "    border-bottom-color: var(--fill-color);\n",
              "    animation:\n",
              "      spin 1s steps(1) infinite;\n",
              "  }\n",
              "\n",
              "  @keyframes spin {\n",
              "    0% {\n",
              "      border-color: transparent;\n",
              "      border-bottom-color: var(--fill-color);\n",
              "      border-left-color: var(--fill-color);\n",
              "    }\n",
              "    20% {\n",
              "      border-color: transparent;\n",
              "      border-left-color: var(--fill-color);\n",
              "      border-top-color: var(--fill-color);\n",
              "    }\n",
              "    30% {\n",
              "      border-color: transparent;\n",
              "      border-left-color: var(--fill-color);\n",
              "      border-top-color: var(--fill-color);\n",
              "      border-right-color: var(--fill-color);\n",
              "    }\n",
              "    40% {\n",
              "      border-color: transparent;\n",
              "      border-right-color: var(--fill-color);\n",
              "      border-top-color: var(--fill-color);\n",
              "    }\n",
              "    60% {\n",
              "      border-color: transparent;\n",
              "      border-right-color: var(--fill-color);\n",
              "    }\n",
              "    80% {\n",
              "      border-color: transparent;\n",
              "      border-right-color: var(--fill-color);\n",
              "      border-bottom-color: var(--fill-color);\n",
              "    }\n",
              "    90% {\n",
              "      border-color: transparent;\n",
              "      border-bottom-color: var(--fill-color);\n",
              "    }\n",
              "  }\n",
              "</style>\n",
              "\n",
              "      <script>\n",
              "        async function quickchart(key) {\n",
              "          const quickchartButtonEl =\n",
              "            document.querySelector('#' + key + ' button');\n",
              "          quickchartButtonEl.disabled = true;  // To prevent multiple clicks.\n",
              "          quickchartButtonEl.classList.add('colab-df-spinner');\n",
              "          try {\n",
              "            const charts = await google.colab.kernel.invokeFunction(\n",
              "                'suggestCharts', [key], {});\n",
              "          } catch (error) {\n",
              "            console.error('Error during call to suggestCharts:', error);\n",
              "          }\n",
              "          quickchartButtonEl.classList.remove('colab-df-spinner');\n",
              "          quickchartButtonEl.classList.add('colab-df-quickchart-complete');\n",
              "        }\n",
              "        (() => {\n",
              "          let quickchartButtonEl =\n",
              "            document.querySelector('#df-8bafe7a8-54c9-492b-994a-6c4db51e32f5 button');\n",
              "          quickchartButtonEl.style.display =\n",
              "            google.colab.kernel.accessAllowed ? 'block' : 'none';\n",
              "        })();\n",
              "      </script>\n",
              "    </div>\n",
              "\n",
              "  <div id=\"id_96e92c45-523c-4d6c-b259-f07b58500750\">\n",
              "    <style>\n",
              "      .colab-df-generate {\n",
              "        background-color: #E8F0FE;\n",
              "        border: none;\n",
              "        border-radius: 50%;\n",
              "        cursor: pointer;\n",
              "        display: none;\n",
              "        fill: #1967D2;\n",
              "        height: 32px;\n",
              "        padding: 0 0 0 0;\n",
              "        width: 32px;\n",
              "      }\n",
              "\n",
              "      .colab-df-generate:hover {\n",
              "        background-color: #E2EBFA;\n",
              "        box-shadow: 0px 1px 2px rgba(60, 64, 67, 0.3), 0px 1px 3px 1px rgba(60, 64, 67, 0.15);\n",
              "        fill: #174EA6;\n",
              "      }\n",
              "\n",
              "      [theme=dark] .colab-df-generate {\n",
              "        background-color: #3B4455;\n",
              "        fill: #D2E3FC;\n",
              "      }\n",
              "\n",
              "      [theme=dark] .colab-df-generate:hover {\n",
              "        background-color: #434B5C;\n",
              "        box-shadow: 0px 1px 3px 1px rgba(0, 0, 0, 0.15);\n",
              "        filter: drop-shadow(0px 1px 2px rgba(0, 0, 0, 0.3));\n",
              "        fill: #FFFFFF;\n",
              "      }\n",
              "    </style>\n",
              "    <button class=\"colab-df-generate\" onclick=\"generateWithVariable('df')\"\n",
              "            title=\"Generate code using this dataframe.\"\n",
              "            style=\"display:none;\">\n",
              "\n",
              "  <svg xmlns=\"http://www.w3.org/2000/svg\" height=\"24px\"viewBox=\"0 0 24 24\"\n",
              "       width=\"24px\">\n",
              "    <path d=\"M7,19H8.4L18.45,9,17,7.55,7,17.6ZM5,21V16.75L18.45,3.32a2,2,0,0,1,2.83,0l1.4,1.43a1.91,1.91,0,0,1,.58,1.4,1.91,1.91,0,0,1-.58,1.4L9.25,21ZM18.45,9,17,7.55Zm-12,3A5.31,5.31,0,0,0,4.9,8.1,5.31,5.31,0,0,0,1,6.5,5.31,5.31,0,0,0,4.9,4.9,5.31,5.31,0,0,0,6.5,1,5.31,5.31,0,0,0,8.1,4.9,5.31,5.31,0,0,0,12,6.5,5.46,5.46,0,0,0,6.5,12Z\"/>\n",
              "  </svg>\n",
              "    </button>\n",
              "    <script>\n",
              "      (() => {\n",
              "      const buttonEl =\n",
              "        document.querySelector('#id_96e92c45-523c-4d6c-b259-f07b58500750 button.colab-df-generate');\n",
              "      buttonEl.style.display =\n",
              "        google.colab.kernel.accessAllowed ? 'block' : 'none';\n",
              "\n",
              "      buttonEl.onclick = () => {\n",
              "        google.colab.notebook.generateWithVariable('df');\n",
              "      }\n",
              "      })();\n",
              "    </script>\n",
              "  </div>\n",
              "\n",
              "    </div>\n",
              "  </div>\n"
            ],
            "application/vnd.google.colaboratory.intrinsic+json": {
              "type": "dataframe",
              "variable_name": "df",
              "summary": "{\n  \"name\": \"df\",\n  \"rows\": 80,\n  \"fields\": [\n    {\n      \"column\": \"tag\",\n      \"properties\": {\n        \"dtype\": \"string\",\n        \"num_unique_values\": 80,\n        \"samples\": [\n          \"default\",\n          \"greeting\",\n          \"sleep\"\n        ],\n        \"semantic_type\": \"\",\n        \"description\": \"\"\n      }\n    },\n    {\n      \"column\": \"patterns\",\n      \"properties\": {\n        \"dtype\": \"object\",\n        \"semantic_type\": \"\",\n        \"description\": \"\"\n      }\n    },\n    {\n      \"column\": \"responses\",\n      \"properties\": {\n        \"dtype\": \"object\",\n        \"semantic_type\": \"\",\n        \"description\": \"\"\n      }\n    }\n  ]\n}"
            }
          },
          "metadata": {},
          "execution_count": 26
        }
      ]
    },
    {
      "cell_type": "markdown",
      "source": [
        "# important take aways\n",
        "| Function | Input          | Output         | Use case                          |\n",
        "| -------- | -------------- | -------------- | --------------------------------- |\n",
        "| `dump`   | Python object  | Writes to file | Save Python object as JSON file   |\n",
        "| `dumps`  | Python object  | JSON string    | Convert Python object to JSON str |\n",
        "| `load`   | File with JSON | Python object  | Read JSON file into Python object |\n",
        "| `loads`  | JSON string    | Python object  | Parse JSON string into Python obj |\n"
      ],
      "metadata": {
        "id": "L0uZxxZKJOvd"
      }
    },
    {
      "cell_type": "code",
      "source": [],
      "metadata": {
        "id": "qHI-g6GQJVCo"
      },
      "execution_count": null,
      "outputs": []
    }
  ]
}