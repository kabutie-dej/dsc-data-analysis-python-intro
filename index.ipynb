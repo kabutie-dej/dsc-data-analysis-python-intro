{
  "cells": [
    {
      "cell_type": "markdown",
      "metadata": {
        "id": "view-in-github",
        "colab_type": "text"
      },
      "source": [
        "<a href=\"https://colab.research.google.com/github/kabutie-dej/dsc-data-analysis-python-intro/blob/master/index.ipynb\" target=\"_parent\"><img src=\"https://colab.research.google.com/assets/colab-badge.svg\" alt=\"Open In Colab\"/></a>"
      ]
    },
    {
      "cell_type": "markdown",
      "metadata": {
        "id": "dB9c09PHeLPH"
      },
      "source": [
        "# Measures of Dispersion\n",
        "\n",
        "## Introduction\n",
        "\n",
        "Previously, you learned about three measures of central tendency: the mean, median, and mode. These metrics can give you a general understanding of where data values lie within the range of the whole dataset but they don't tell you the whole story. In fact, they can often be misleading!\n",
        "\n",
        "To truly understand your data, you also need **Measures of Dispersion**, namely: absolute deviation, standard deviation, and variance. These measures tell you how tightly (or loosely) your data is clustered around its center. Generally, measures of dispersion report on how \"noisy\" your dataset is.\n",
        "\n",
        "In this lesson, you'll learn about the different measures of dispersion and explore how they are related to each other as well as other summary statistics.\n",
        "\n",
        "## Objectives\n",
        "You will be able to:\n",
        "\n",
        "* Compare the different measures of dispersion\n",
        "* Create a box plot and use it to interpret the spread of data\n",
        "\n",
        "\n",
        "## Absolute Deviation\n",
        "\n",
        "**Absolute Deviation** is the simplest way of calculating the dispersion of a data set. It is calculated by taking a value from the dataset and subtracting the mean of the dataset. This helps to identify the \"distance\" between a given value and the mean. In other words, how much a value *deviates* from the mean.  \n",
        "\n",
        "> $\\left|x_i - \\bar{x}\\right|$\n",
        "\n",
        "Here $x_i$ denotes an element from $[x_1, x_2, .., x_n]$ , where $n$ is the total number of data points in the dataset. Recall, the symbol $\\bar{x}$ (pronounced \"x-bar\") represents the sample mean. The vertical bars are used to denote absolute value so all absolute deviation values are positive. This is important because when measuring deviation, you just want to focus on how big the difference is, not its sign.\n",
        "\n",
        "If that sounded a little confusing, consider this example: Say the mean test score for a group of 100 students is 58.75 out of 100. If a particular student scored 60 out of 100, the absolute deviation of that score from the mean is:\n",
        "\n",
        "> $ \\left|60 - 58.75\\right| = 1.25 $\n",
        "\n",
        "**Average Absolute Deviation** is calculated by taking the mean of all individual absolute deviations in a data set as shown in the formula below:\n",
        "\n",
        "$$\\large \\dfrac{1}{n}\\sum^n_{i=1}\\left|(x_i-\\bar x)\\right| $$\n",
        "\n",
        "The advantage here is that the average absolute deviation yields one number to describe dispersion. To illustrate this, consider this example: In a group of four people, two people earn 50K USD a year and two earn 60K USD a year. The mean of the data set is 55K USD. The absolute deviations are:\n",
        "\n",
        "> $ \\left|50 - 55\\right| = 5 $   \n",
        "> $ \\left|50 - 55\\right| = 5 $   \n",
        "> $ \\left|60 - 55\\right| = 5 $     \n",
        "> $ \\left|60 - 55\\right| = 5 $     \n",
        "\n",
        "The average absolute deviation is:\n",
        "\n",
        "> $ \\large \\frac{5+5+5+5}{4} = 5 $\n",
        "\n",
        "## Variance\n",
        "\n",
        "A more complex measure of dispersion is **Variance**. Remember, measures of dispersion emphasize the magnitude of differences from the mean, not their sign. Unlike the absolute deviation, which uses the absolute value of the deviation to take care of negative values, the variance achieves positive values by *squaring* each of the deviations. Similar to what you saw with the average absolute deviation, the next step in calculating variance is to add up the squared deviations (the **sum of squares**), then divide by the total number of values in your dataset.\n",
        "\n",
        "OK, that was a mouthful but you can break it down mathematically as follows:\n",
        "\n",
        "$$ \\large \\sigma^2 = \\dfrac{1}{n}\\displaystyle\\sum^n_{i=1}(x_i-\\mu)^2 $$\n",
        "\n",
        "> Recall the distinction between the sample mean ($\\bar{x}$) and the population mean ($\\mu$) - namely, that a sample mean is calculated using a subset of the population whereas the population mean is calculated using the entire population. You'll see here that the population mean is used. This is because unlike the mean, the variance formula changes slightly depending on whether you are working with data from a sample or data from the entire population. Don't worry if this is a little confusing now, the details will be discussed later.\n",
        "\n",
        "Say you want to calculate the variance of our salary data above. The first step is to calculate all of the differences from the mean:\n",
        "\n",
        "> $ 50 - 55 = -5 $   \n",
        "> $ 50 - 55 = -5 $   \n",
        "> $ 60 - 55 = 5 $     \n",
        "> $ 60 - 55 = 5 $  \n",
        "\n",
        "*Note: no absolute values, the signs are kept*\n",
        "\n",
        "Next, square the differences:\n",
        "\n",
        "> $ (-5)^2 = 25 $   \n",
        "> $ (-5)^2 = 25 $   \n",
        "> $ 5^2 = 25 $     \n",
        "> $ 5^2 = 25 $\n",
        "\n",
        "Finally, add them up and divide by the total number of data points:\n",
        "\n",
        "> $ \\large \\frac{25+25+25+25}{4} = 25 $"
      ]
    },
    {
      "cell_type": "markdown",
      "metadata": {
        "id": "3P-zfVsHeLPJ"
      },
      "source": [
        "As a measure of dispersion, the variance is very useful. If the values in the data set are spread out about their mean, the variance will be a large number. On the other hand, if the values are clustered closely around their mean, the variance will be a much smaller number.\n",
        "\n",
        "There are, however, two potential problems with the variance. First, because the deviations of values from the mean are squared, this gives more weight to extreme values. Outliers, which differ substantially more from the mean than the rest of the data in a data set, will impact the variance. Secondly, the variance is not in the same *units* as the individual values in a data set. Variance is measured in the *units squared*. This means we cannot directly relate a variance value to the values in our data set. If this isn't clear, go back to the salary example above. The salaries are measured in USD but the variance is measured in *USD squared* which is not the same thing.\n",
        "\n",
        "Fortunately, calculating the standard deviation rather than the variance fixes this problem.\n",
        "\n",
        "## Standard Deviation\n",
        "\n",
        "The **Standard Deviation** is another measure of the spread of values within a dataset.\n",
        "It is simply the square root of the variance. In the above formula, $\\sigma^2$ is the variance so $\\sigma$ is the standard deviation.\n",
        "\n",
        "$$ \\large \\sigma = \\sqrt{\\dfrac{1}{n}\\displaystyle\\sum^n_{i=1}(x_i-\\mu)^2} $$\n",
        "\n",
        "So for the salary example above, you can calculate:\n",
        "\n",
        "> $ \\sigma = \\sqrt{\\sigma^2} = \\sqrt{25} = 5 $\n",
        "\n",
        "Now, the units are in USD again!"
      ]
    },
    {
      "cell_type": "markdown",
      "metadata": {
        "id": "eiY7P81JeLPJ"
      },
      "source": [
        "## Quantiles, Percentiles, and Quartiles\n",
        "\n",
        "**Quantiles** are points in a distribution that relate to the *rank order* of values in that distribution. Rank ordering just means the data are sorted in ascending order. You can find any quantile by sorting the sample. The middle value of the sorted sample (middle quantile, 50th percentile) is known as the **median**. The **limits** are the **minimum** and **maximum** values. Any other locations between these points can be described in terms of **percentiles**.\n",
        "\n",
        "Percentiles are descriptions of quantiles relative to 100. So the 80th percentile is 80% of the way up an ascending list of sorted values of data. For example, take a look at the image below: 80% of people in the data set are shorter than you so you are in the 80th percentile for height.\n",
        "\n",
        "<img src=\"https://curriculum-content.s3.amazonaws.com/data-science/images/new_percent.png\" width=\"600\">\n",
        "\n",
        "\n",
        "## InterQuartile Range - IQR\n",
        "The **quartiles** of a dataset divide the data into **four** equal parts. Since there are four equal parts, there are 3 quartile positions that divide them. These are denoted by Q1, Q2, and Q3. The second quartile position, Q2, is the median of the dataset, which divides the dataset in half. Q1 divides the lower half and is known as the \"lower quartile\". Similarly, Q3 divides the upper half and is known as the \"upper quartile\". The image below illustrates how this looks:\n",
        "\n",
        "<img src=\"https://curriculum-content.s3.amazonaws.com/data-science/images/new_measuresofdispersion2.png\" width=\"600\">\n",
        "\n",
        "The **InterQuartile Range (IQR)** is a measure of where the “middle fifty” is in a dataset which is given by $ Q3 - Q1 $. This is useful because it tells you where the bulk of the values lie. To relate these concepts back to percentiles, Q1 is the 25th percentile and Q3 is the 75th percentile. The IQR is calculated by subtracting the 25th percentile from the 75th percentile.\n",
        "\n",
        "In practice, there are actually several different methods for determining percentiles which are accepted and you may have encountered some of these methods before. For now, you can just focus on the method shown below which is what is used by default in the go-to statistical and mathematical Python packages that you will use throughout this course and your career like `numpy`.\n",
        "\n",
        "### Calculating IQR for a Given Data Set\n",
        "\n",
        "You will now get a feel for how IQR is calculated using the collection of numbers from the image above. First, put the numbers in a list."
      ]
    },
    {
      "cell_type": "code",
      "execution_count": null,
      "metadata": {
        "id": "sm-TsoDAeLPT"
      },
      "outputs": [],
      "source": [
        "# List of numbers\n",
        "x = [3, 5, 8, 12, 15, 18, 20, 22, 25, 30, 50, 80, 687]\n"
      ]
    },
    {
      "cell_type": "markdown",
      "metadata": {
        "id": "fLi_-JfveLPU"
      },
      "source": [
        "**Step 1:** Sort the data in ascending order (these numbers are already sorted but don't skip this step when you do this on other data- it's important!)."
      ]
    },
    {
      "cell_type": "code",
      "execution_count": null,
      "metadata": {
        "id": "fG7c0fwXeLPU"
      },
      "outputs": [],
      "source": [
        "# Sort in ascending order\n",
        "x = sorted(x)"
      ]
    },
    {
      "cell_type": "markdown",
      "metadata": {
        "id": "jU01td3HeLPU"
      },
      "source": [
        "**Step 2:** Calculate the distance between the last element and the first element."
      ]
    },
    {
      "cell_type": "code",
      "execution_count": null,
      "metadata": {
        "id": "8ojU1gu1eLPU"
      },
      "outputs": [],
      "source": [
        "# Distance between last and first element\n",
        "distance = len(x) - 1"
      ]
    },
    {
      "cell_type": "markdown",
      "metadata": {
        "id": "RzzPokFfeLPU"
      },
      "source": [
        "**Step 3:** Multiply the distance by the desired percentiles, 25th and 75th, expressed as fractions. This will yield the indices of the elements that correspond to the 25th percentile and 75th percentile, respectively."
      ]
    },
    {
      "cell_type": "code",
      "execution_count": null,
      "metadata": {
        "id": "-eQ-LX-7eLPU",
        "outputId": "80d3ab01-fbe8-4224-db3c-1f5595b9176c"
      },
      "outputs": [
        {
          "data": {
            "text/plain": [
              "3.0"
            ]
          },
          "execution_count": 4,
          "metadata": {},
          "output_type": "execute_result"
        }
      ],
      "source": [
        "# Multiply distance by percentiles\n",
        "\n",
        "# Index of 25th percentile\n",
        "index_p25 = 0.25*distance\n",
        "index_p25"
      ]
    },
    {
      "cell_type": "code",
      "execution_count": null,
      "metadata": {
        "id": "060cEwxceLPV",
        "outputId": "df3ce8ad-70bb-4068-b1e1-97f4e80a8d26"
      },
      "outputs": [
        {
          "data": {
            "text/plain": [
              "9.0"
            ]
          },
          "execution_count": 5,
          "metadata": {},
          "output_type": "execute_result"
        }
      ],
      "source": [
        "# Index of 75th percentile\n",
        "index_p75 = 0.75*distance\n",
        "index_p75"
      ]
    },
    {
      "cell_type": "markdown",
      "metadata": {
        "id": "wEo_tea3eLPV"
      },
      "source": [
        "**Step 4:** Using the indices calculated above, determine the 25th and 75th percentiles."
      ]
    },
    {
      "cell_type": "code",
      "execution_count": null,
      "metadata": {
        "id": "ZBwh3eeKeLPV",
        "outputId": "be04f318-c802-4679-e57d-b80f1c95bc1f"
      },
      "outputs": [
        {
          "data": {
            "text/plain": [
              "12"
            ]
          },
          "execution_count": 6,
          "metadata": {},
          "output_type": "execute_result"
        }
      ],
      "source": [
        "# 25th Percentile\n",
        "p25 = x[int(index_p25)]\n",
        "p25"
      ]
    },
    {
      "cell_type": "code",
      "execution_count": null,
      "metadata": {
        "id": "_P6C1UO7eLPV",
        "outputId": "08c9ccc2-8c1c-4969-895c-e6bc87229afb"
      },
      "outputs": [
        {
          "data": {
            "text/plain": [
              "30"
            ]
          },
          "execution_count": 7,
          "metadata": {},
          "output_type": "execute_result"
        }
      ],
      "source": [
        "# 75th Percentile\n",
        "p75 = x[int(index_p75)]\n",
        "p75"
      ]
    },
    {
      "cell_type": "markdown",
      "metadata": {
        "id": "Pimd8_QoeLPV"
      },
      "source": [
        "**Step 5:** Calculate the IQR by subtracting the 25th percentile from the 75th percentile."
      ]
    },
    {
      "cell_type": "code",
      "execution_count": null,
      "metadata": {
        "id": "yxsvelYbeLPV",
        "outputId": "c46d477a-5478-4f09-8622-a56e08b4ae9d"
      },
      "outputs": [
        {
          "data": {
            "text/plain": [
              "18"
            ]
          },
          "execution_count": 8,
          "metadata": {},
          "output_type": "execute_result"
        }
      ],
      "source": [
        "# IQR\n",
        "iqr = p75 - p25\n",
        "iqr"
      ]
    },
    {
      "cell_type": "markdown",
      "metadata": {
        "id": "4JpPw7XTeLPV"
      },
      "source": [
        "In practice, you will probably never calculate the IQR by hand since `numpy` has a built-in method for calculating percentiles.  "
      ]
    },
    {
      "cell_type": "code",
      "execution_count": null,
      "metadata": {
        "id": "if3t_R43eLPV",
        "outputId": "85b9308f-8d6f-4b4a-fb26-6e55c67966ad"
      },
      "outputs": [
        {
          "data": {
            "text/plain": [
              "18.0"
            ]
          },
          "execution_count": 9,
          "metadata": {},
          "output_type": "execute_result"
        }
      ],
      "source": [
        "import numpy as np\n",
        "\n",
        "np.percentile(x, 75) - np.percentile(x, 25)"
      ]
    },
    {
      "cell_type": "markdown",
      "metadata": {
        "id": "nBfQEeMleLPV"
      },
      "source": [
        "You might have noticed that the indices calculated above happened to be whole numbers. Whole numbers are great to work with here since they can be used as indices directly. The calculation becomes a little more complicated when the indices are fractional numbers. In this case, `numpy` will use a technique called \"linear interpolation\" to take the fractional components into account. This is beyond the scope of what you need to know but if you are curious about how it works you can check out the [documentation](\"https://docs.scipy.org/doc/numpy/reference/generated/numpy.percentile.html\")."
      ]
    },
    {
      "cell_type": "markdown",
      "metadata": {
        "id": "sLw6rasyeLPV"
      },
      "source": [
        "## Visualizing Dispersion with Box Plots\n",
        "\n",
        "As a Data Scientist, you will need to be able to present your analysis visually. Box plots are a commonly used visual representation of centrality and spread of data that is based on quartiles.\n",
        "\n",
        "A general depiction of a box plot is shown below:\n",
        "\n",
        "<img src=\"https://curriculum-content.s3.amazonaws.com/data-science/images/new_boxplot.png\" width=\"600\">\n",
        "\n",
        "An important feature of the box plot is the set of lines that radiate from the middle to the \"minimum\" and \"maximum\" values. These lines are commonly called **\"whiskers.\"** You've probably noticed in the image above that the lines do not go to the true minimum and maximum values (confusing right?) but rather $ Q1 - 1.5*IQR $ and $ Q3 + 1.5*IQR $, respectively. Any values that fall outside this range are shown as individual data points. These values are considered outliers.\n",
        "\n",
        "> Note: You might have read about some alternative definitions for how to draw the whiskers. Though these alternative definitions may be acceptable in some contexts, the definition presented here is what Python uses so it's best to stick with that.\n",
        "\n",
        "Matplotlib can be used to generate box plots given a collection of values. Consider the retirement age data again:"
      ]
    },
    {
      "cell_type": "code",
      "execution_count": null,
      "metadata": {
        "id": "s1f1oWTqeLPW",
        "outputId": "f6236e2e-4776-48b0-8a1b-55c227d394d9"
      },
      "outputs": [
        {
          "data": {
            "image/png": "[encoded data removed]",
            "text/plain": [
              "<Figure size 432x288 with 1 Axes>"
            ]
          },
          "metadata": {},
          "output_type": "display_data"
        }
      ],
      "source": [
        "import matplotlib.pyplot as plt\n",
        "%matplotlib inline\n",
        "\n",
        "plt.style.use('ggplot') # for viewing a grid on plot\n",
        "x = [54, 54, 54, 55, 56, 57, 57, 58, 58, 60, 81]\n",
        "plt.boxplot(x)\n",
        "plt.title (\"Retirement Age Box Plot\")\n",
        "plt.show()"
      ]
    },
    {
      "cell_type": "code",
      "source": [
        "import matplotlib.pyplot as plt\n",
        "plt.style.use('ggplot')\n",
        "x = [45,17,19,53,25,57,34,10,65]\n",
        "plt.boxplot(x)\n",
        "plt.title('dummy data')\n",
        "plt.show()"
      ],
      "metadata": {
        "colab": {
          "base_uri": "https://localhost:8080/",
          "height": 453
        },
        "id": "mZ206hGdBklr",
        "outputId": "03bdf8e4-9a59-40d2-dfe3-b9b0f5fd8e9e"
      },
      "execution_count": null,
      "outputs": [
        {
          "output_type": "display_data",
          "data": {
            "text/plain": [
              "<Figure size 640x480 with 1 Axes>"
            ],
            "image/png": "[encoded data removed]"
          },
          "metadata": {}
        }
      ]
    },
    {
      "cell_type": "code",
      "source": [
        "plt.boxplot(x, showfliers=True)\n",
        "plt.title('dummy data with outliers')\n",
        "plt.show()"
      ],
      "metadata": {
        "colab": {
          "base_uri": "https://localhost:8080/",
          "height": 453
        },
        "id": "JCg5oFScCayS",
        "outputId": "7e7bd857-c2e9-4eac-9d0e-e764c1581996"
      },
      "execution_count": null,
      "outputs": [
        {
          "output_type": "display_data",
          "data": {
            "text/plain": [
              "<Figure size 640x480 with 1 Axes>"
            ],
            "image/png": "[encoded data removed]"
          },
          "metadata": {}
        }
      ]
    },
    {
      "cell_type": "markdown",
      "metadata": {
        "id": "NO-5cyeWeLPW"
      },
      "source": [
        "In this box plot, you can see that it is very easy to visualize the central tendency of the data. The median is drawn as a blue line at 57. The IQR identifies the middle 50% of the data which is shown as the box. The whiskers (two horizontal lines) show the minimum (54) and maximum (60) values in our dataset that fall within $Q1-1.5*IQR$ and $Q3+1.5*IQR$, respectively. The point at 81 falls outside the range of the whiskers so it is shown as a data point and is considered an outlier.\n",
        "\n",
        "The outlier data point squishes the visualization of the box. Sometimes, it is convenient to hide the outliers to get a better view of the box. You can pass the argument `showfliers=False` to hide the outliers:"
      ]
    },
    {
      "cell_type": "code",
      "execution_count": null,
      "metadata": {
        "id": "IezscJrYeLPW",
        "outputId": "f95de2a3-7deb-40da-d7f9-2b3089ff743d"
      },
      "outputs": [
        {
          "data": {
            "image/png": "[encoded data removed]",
            "text/plain": [
              "<Figure size 432x288 with 1 Axes>"
            ]
          },
          "metadata": {
            "needs_background": "light"
          },
          "output_type": "display_data"
        }
      ],
      "source": [
        "plt.boxplot(x, showfliers=False)\n",
        "plt.title (\"Retirement Age Box Plot - Without Outliers\")\n",
        "plt.show()"
      ]
    },
    {
      "cell_type": "markdown",
      "metadata": {
        "id": "rJ0d2qqWeLPW"
      },
      "source": [
        "Use the ```showfliers``` option with caution. You don't want to ignore data!\n",
        "\n",
        "\n",
        "## Summary\n",
        "\n",
        "In this lesson, you learned about some commonly used measures of dispersion. These measures identify the spread or deviation present in a dataset. You also looked at quantiles, percentiles, quartiles, and IQR as well as how to use those concepts to construct box plots for visualizing the distribution of data in a given dataset. You will revisit these topics continuously throughout the course and will see how these concepts are used toward effective data analysis."
      ]
    }
  ],
  "metadata": {
    "kernelspec": {
      "display_name": "Python 3",
      "language": "python",
      "name": "python3"
    },
    "language_info": {
      "codemirror_mode": {
        "name": "ipython",
        "version": 3
      },
      "file_extension": ".py",
      "mimetype": "text/x-python",
      "name": "python",
      "nbconvert_exporter": "python",
      "pygments_lexer": "ipython3",
      "version": "3.6.6"
    },
    "toc": {
      "base_numbering": 1,
      "nav_menu": {},
      "number_sections": true,
      "sideBar": true,
      "skip_h1_title": false,
      "title_cell": "Table of Contents",
      "title_sidebar": "Contents",
      "toc_cell": false,
      "toc_position": {},
      "toc_section_display": true,
      "toc_window_display": false
    },
    "colab": {
      "provenance": [],
      "include_colab_link": true
    }
  },
  "nbformat": 4,
  "nbformat_minor": 0
}